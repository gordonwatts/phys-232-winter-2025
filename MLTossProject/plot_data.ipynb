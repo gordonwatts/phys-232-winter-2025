{
 "cells": [
  {
   "cell_type": "markdown",
   "metadata": {},
   "source": [
    "# Analyze the Toss Data\n",
    "\n",
    "We will load up all the data we can by scanning a set of directories."
   ]
  },
  {
   "cell_type": "code",
   "execution_count": null,
   "metadata": {},
   "outputs": [],
   "source": [
    "import pandas as pd\n",
    "import os\n",
    "import matplotlib.pyplot as plt\n",
    "from math import sqrt\n",
    "import seaborn as sns"
   ]
  },
  {
   "cell_type": "markdown",
   "metadata": {},
   "source": [
    "## Load the data\n",
    "\n",
    "We will load everything into a pandas dataframe."
   ]
  },
  {
   "cell_type": "code",
   "execution_count": null,
   "metadata": {},
   "outputs": [],
   "source": [
    "# Define the directory where the CSV files are located\n",
    "directory = './data'\n",
    "\n",
    "# Get a list of all CSV files in the directory\n",
    "csv_files = [f for f in os.listdir(directory) if f.endswith('.txt')]\n",
    "\n",
    "# Initialize an empty list to store the DataFrames\n",
    "dfs = []\n",
    "\n",
    "# Loop over the list of CSV files\n",
    "for index, file in enumerate(csv_files):\n",
    "    # Read the CSV file into a DataFrame\n",
    "    df = pd.read_csv(os.path.join(directory, file))\n",
    "    \n",
    "    # Add a new column to the DataFrame that stores the file name\n",
    "    df['file_name'] = file\n",
    "    df['file_index'] = index\n",
    "    df['measurement_index'] = range(1, len(df) + 1)\n",
    "    \n",
    "    # Append the DataFrame to the list\n",
    "    dfs.append(df)\n",
    "\n",
    "# Concatenate all the DataFrames in the list into a single DataFrame\n",
    "df = pd.concat(dfs, ignore_index=True)"
   ]
  },
  {
   "cell_type": "code",
   "execution_count": null,
   "metadata": {},
   "outputs": [],
   "source": [
    "df"
   ]
  },
  {
   "cell_type": "markdown",
   "metadata": {},
   "source": [
    "## A few things about the data we've loaded."
   ]
  },
  {
   "cell_type": "markdown",
   "metadata": {},
   "source": [
    "What is min and max number of measurements in each?"
   ]
  },
  {
   "cell_type": "code",
   "execution_count": null,
   "metadata": {},
   "outputs": [],
   "source": [
    "by_file = df.groupby('file_index')\n",
    "print(f'Min # of measurements: {by_file.size().min()}, max: {by_file.size().max()}')"
   ]
  },
  {
   "cell_type": "markdown",
   "metadata": {},
   "source": [
    "How good is the \"jitter\" between measurements?"
   ]
  },
  {
   "cell_type": "code",
   "execution_count": null,
   "metadata": {},
   "outputs": [],
   "source": [
    "# Calculate the difference in the time column\n",
    "df['time_diff'] = df['time'].diff()\n",
    "\n",
    "# Plot the histogram. Simple cut of -0.5 to avoid where we reset the times\n",
    "# this means we don't have to do a group by to get the measurements right.\n",
    "df[df.time_diff > -0.5].time_diff.plot(kind='hist', bins=100)\n",
    "plt.xlabel('Time Difference')\n",
    "plt.ylabel('Frequency')\n",
    "plt.title('Histogram of Time Differences')\n",
    "plt.show()"
   ]
  },
  {
   "cell_type": "markdown",
   "metadata": {},
   "source": [
    "Quickly - what are the large 0.16 guys there?"
   ]
  },
  {
   "cell_type": "code",
   "execution_count": null,
   "metadata": {},
   "outputs": [],
   "source": [
    "df[df.time_diff > 0.16]"
   ]
  },
  {
   "cell_type": "markdown",
   "metadata": {},
   "source": [
    "That seems to say something happens when you write out the file the first time. Perhaps we should hold everything in memory and then flush it - and avoid this?\n",
    "\n",
    "This is interesting because our data has to be interpreted and we aren't putting anything about delta-t in there (I hope)."
   ]
  },
  {
   "cell_type": "markdown",
   "metadata": {},
   "source": [
    "## Looking at the data\n",
    "\n",
    "Mainly, we want to see if the data looks any different between the various types of throws we've done.\n",
    "\n",
    "Lets look at the total acceleration first."
   ]
  },
  {
   "cell_type": "code",
   "execution_count": null,
   "metadata": {},
   "outputs": [],
   "source": [
    "df['a'] = (df.ax**2 + df.ay**2 + df.az**2).apply(sqrt)"
   ]
  },
  {
   "cell_type": "code",
   "execution_count": null,
   "metadata": {},
   "outputs": [],
   "source": [
    "df['a'].plot(kind='hist', bins=100)\n",
    "plt.xlabel('Total Acceleration')\n",
    "plt.ylabel('Frequency')\n",
    "plt.title('Histogram of Total Acceleration')\n",
    "plt.show()"
   ]
  },
  {
   "cell_type": "code",
   "execution_count": null,
   "metadata": {},
   "outputs": [],
   "source": [
    "# Create a FacetGrid with file_index as the row variable\n",
    "g = sns.FacetGrid(data=df, row='file_index', sharey=True, aspect=4, height=2)\n",
    "\n",
    "# Plot line plots for each file_index\n",
    "g.map(sns.lineplot, 'measurement_index', 'a')\n",
    "\n",
    "# Add a red line at 9.8\n",
    "g.map(plt.axhline, y=9.8, color='red')\n",
    "\n",
    "# Adjust the layout of the plots\n",
    "g.fig.tight_layout()\n",
    "\n",
    "# Show the plots\n",
    "plt.show()\n"
   ]
  },
  {
   "cell_type": "markdown",
   "metadata": {},
   "source": [
    "Ok these things are different - but telling the difference between a toss straight up and a longer toss is going to be difficult!"
   ]
  }
 ],
 "metadata": {
  "kernelspec": {
   "display_name": ".venv",
   "language": "python",
   "name": "python3"
  },
  "language_info": {
   "codemirror_mode": {
    "name": "ipython",
    "version": 3
   },
   "file_extension": ".py",
   "mimetype": "text/x-python",
   "name": "python",
   "nbconvert_exporter": "python",
   "pygments_lexer": "ipython3",
   "version": "3.10.8"
  }
 },
 "nbformat": 4,
 "nbformat_minor": 2
}
