{
 "cells": [
  {
   "cell_type": "markdown",
   "metadata": {},
   "source": [
    "# Analyze the Toss Data from the HW assignment\n",
    "\n",
    "We will load up all the data we can by scanning the data by each type to see if we spot any crazy data."
   ]
  },
  {
   "cell_type": "code",
   "execution_count": null,
   "metadata": {},
   "outputs": [],
   "source": [
    "import pandas as pd\n",
    "import os\n",
    "import matplotlib.pyplot as plt\n",
    "from math import sqrt\n",
    "import seaborn as sns\n",
    "\n",
    "from pathlib import Path"
   ]
  },
  {
   "cell_type": "markdown",
   "metadata": {},
   "source": [
    "## Load the data\n",
    "\n",
    "We need a data loader!"
   ]
  },
  {
   "cell_type": "code",
   "execution_count": null,
   "metadata": {},
   "outputs": [],
   "source": [
    "# Define the directory where the CSV files are located\n",
    "directory = Path('./data/ClassData')\n",
    "\n",
    "def fetch_data(sub_dir_name: str) -> pd.DataFrame:\n",
    "    # Define the directory where the CSV files are located\n",
    "    f_dir = directory / sub_dir_name\n",
    "    # Recursively get a list of all .txt files in this directory and below.\n",
    "    csv_files = list(f_dir.glob('**/*.txt'))\n",
    "    # Initialize an empty list to store the DataFrames\n",
    "    dfs = []\n",
    "    # Loop over the list of CSV files\n",
    "    for index, file in enumerate(csv_files):\n",
    "        # Read the CSV file into a DataFrame\n",
    "        df = pd.read_csv(file)\n",
    "        # Add a new column to the DataFrame that stores the file name\n",
    "        df['file_name'] = file\n",
    "        df['file_index'] = index\n",
    "        df['measurement_index'] = range(1, len(df) + 1)\n",
    "        # Append the DataFrame to the list\n",
    "        dfs.append(df)\n",
    "    # Concatenate all the DataFrames in the list into a single DataFrame\n",
    "    df = pd.concat(dfs, ignore_index=True)\n",
    "    return df"
   ]
  },
  {
   "cell_type": "code",
   "execution_count": null,
   "metadata": {},
   "outputs": [],
   "source": [
    "df_holding = fetch_data('held')\n",
    "df_horizontal = fetch_data('horizontal')\n",
    "df_up = fetch_data('up')"
   ]
  },
  {
   "cell_type": "markdown",
   "metadata": {},
   "source": [
    "## A few things about the data we've loaded."
   ]
  },
  {
   "cell_type": "markdown",
   "metadata": {},
   "source": [
    "What is min and max number of measurements in each?"
   ]
  },
  {
   "cell_type": "code",
   "execution_count": null,
   "metadata": {},
   "outputs": [],
   "source": [
    "def dump_stats(df: pd.DataFrame, name: str):\n",
    "    # Number of measurements\n",
    "    by_file = df.groupby('file_index')\n",
    "    print(f'{name}: Min # of measurements: {by_file.size().min()}, max: {by_file.size().max()}')\n",
    "\n",
    "    # Jitter\n",
    "    df['time_diff'] = df['Time'].diff()\n",
    "\n",
    "    # Plot the histogram. Simple cut of -0.5 to avoid where we reset the times\n",
    "    # this means we don't have to do a group by to get the measurements right.\n",
    "    df[df.time_diff > -0.5].time_diff.plot(kind='hist', bins=100)\n",
    "    plt.xlabel('Time Difference')\n",
    "    plt.ylabel('Frequency')\n",
    "    plt.title(f'Histogram of Time Differences for {name}')\n",
    "    plt.show()\n",
    "\n",
    "    # Acceleration Profile\n",
    "    df['a'] = (df.ax**2 + df.ay**2 + df.az**2).apply(sqrt)\n",
    "    df['a'].plot(kind='hist', bins=100)\n",
    "    plt.xlabel('Total Acceleration')\n",
    "    plt.ylabel('Frequency')\n",
    "    plt.title(f'Histogram of Total Acceleration for {name}')\n",
    "    plt.show()"
   ]
  },
  {
   "cell_type": "code",
   "execution_count": null,
   "metadata": {},
   "outputs": [],
   "source": [
    "dump_stats(df_holding, 'Holding')"
   ]
  },
  {
   "cell_type": "code",
   "execution_count": null,
   "metadata": {},
   "outputs": [],
   "source": [
    "dump_stats(df_horizontal, 'Horizontal')"
   ]
  },
  {
   "cell_type": "code",
   "execution_count": null,
   "metadata": {},
   "outputs": [],
   "source": [
    "dump_stats(df_up, 'Up')"
   ]
  },
  {
   "cell_type": "markdown",
   "metadata": {},
   "source": [
    "Last time we looked at that bump that was out beyond 0.16."
   ]
  },
  {
   "cell_type": "markdown",
   "metadata": {},
   "source": [
    "# Dump of the \"holding\" data"
   ]
  },
  {
   "cell_type": "code",
   "execution_count": null,
   "metadata": {},
   "outputs": [],
   "source": [
    "def per_trial(df: pd.DataFrame, name: str):\n",
    "    # Create a FacetGrid with file_index as the row variable\n",
    "    g = sns.FacetGrid(data=df, row='file_index', sharey=True, aspect=4, height=2)\n",
    "\n",
    "    # Plot line plots for each file_index\n",
    "    g.map(sns.lineplot, 'measurement_index', 'a')\n",
    "\n",
    "    # Add a red line at 9.8\n",
    "    g.map(plt.axhline, y=9.8, color='red')\n",
    "\n",
    "    # Adjust the layout of the plots\n",
    "    g.figure.tight_layout()\n",
    "\n",
    "    # Show the plots\n",
    "    plt.show()\n",
    "\n",
    "per_trial(df_holding, 'Holding')"
   ]
  },
  {
   "cell_type": "code",
   "execution_count": null,
   "metadata": {},
   "outputs": [],
   "source": [
    "per_trial(df_horizontal, 'Horizontal')"
   ]
  },
  {
   "cell_type": "code",
   "execution_count": null,
   "metadata": {},
   "outputs": [],
   "source": [
    "per_trial(df_up, 'Up')"
   ]
  }
 ],
 "metadata": {
  "kernelspec": {
   "display_name": ".venv",
   "language": "python",
   "name": "python3"
  },
  "language_info": {
   "codemirror_mode": {
    "name": "ipython",
    "version": 3
   },
   "file_extension": ".py",
   "mimetype": "text/x-python",
   "name": "python",
   "nbconvert_exporter": "python",
   "pygments_lexer": "ipython3",
   "version": "3.13.1"
  }
 },
 "nbformat": 4,
 "nbformat_minor": 2
}
