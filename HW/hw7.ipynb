{
 "cells": [
  {
   "attachments": {},
   "cell_type": "markdown",
   "metadata": {},
   "source": [
    "# Software HW 7\n",
    "\n",
    "_Due 3/7/2025_\n",
    "\n",
    "For submission instructions, see the last section!"
   ]
  },
  {
   "attachments": {},
   "cell_type": "markdown",
   "metadata": {},
   "source": [
    "## Generalizing the Integration\n",
    "\n",
    "Last week for HW you built an algorithm that calculated $\\pi$. It did this by determining the area of a circle of unit radius. This week, we'll turn the problem around and use the same technique to calculate the area of an arbitrary shape. We'll some facets of class programming that we've not talked about before - class inheritance (see chapter 9 , the _Inheritance_ section).\n",
    "\n",
    "The algorithm is the same as before:\n",
    "\n",
    "1. Throw a random number generator to find a point on the plane\n",
    "1. Determine if the point is in or not in the shape\n",
    "1. Keep track of the number in and out\n",
    "1. Calculate the ratio\n",
    "\n",
    "So we need an algorithm to calculate the area given a shape. We'll make the algorithm a _function_ and the shape a _class_. We'll define a short base class that defines how we want the class to work, and then allow inheritance for the definition of any actual shape.\n",
    "\n",
    "Lets start with a simple class definition for a shape:"
   ]
  },
  {
   "cell_type": "code",
   "execution_count": null,
   "metadata": {},
   "outputs": [],
   "source": [
    "class Shape:\n",
    "    def bounding_box(self):\n",
    "        '''Abstract method to return the bounding box of the shape.\n",
    "        The bounding box is a tuple of the form (x_min, y_min, x_max, y_max).\n",
    "\n",
    "        Returns:\n",
    "            (x_min, y_min, x_max, y_max) (tuple of floats)\n",
    "        '''\n",
    "        raise NotImplementedError()\n",
    "\n",
    "    def is_in_shape(self, x, y):\n",
    "        '''Abstract method to check if a point is inside the shape.\n",
    "\n",
    "        Args:\n",
    "            x (float): x coordinate of the point\n",
    "            y (float): y coordinate of the point\n",
    "\n",
    "        Returns:\n",
    "            True if the point is inside the shape, False otherwise (bool)\n",
    "        '''\n",
    "        raise NotImplementedError()"
   ]
  },
  {
   "attachments": {},
   "cell_type": "markdown",
   "metadata": {},
   "source": [
    "And we can do a simple one for a circle, matching what we did before:"
   ]
  },
  {
   "cell_type": "code",
   "execution_count": null,
   "metadata": {},
   "outputs": [],
   "source": [
    "class Circle(Shape):\n",
    "    def __init__(self, radius):\n",
    "        '''Create a circle, centered at (0,0).\n",
    "\n",
    "        Args:\n",
    "            radius (float): Radius of the circle\n",
    "        '''\n",
    "        self.radius = radius\n",
    "\n",
    "    def bounding_box(self):\n",
    "        '''Return the bounding box of the circle.\n",
    "\n",
    "        Returns:\n",
    "            Tuple[float, float, float, float]: The bounding box of the circle\n",
    "        '''\n",
    "        return (- self.radius, - self.radius,\n",
    "                self.radius, self.radius)\n",
    "\n",
    "    def is_in_shape(self, x, y):\n",
    "        '''Check if a point is inside the circle.\n",
    "\n",
    "        Note: We don't use `sqrt` because `sqrt` is much slower to\n",
    "        compute than squaring!\n",
    "\n",
    "        Args:\n",
    "            x (float): The x coordinate of the point\n",
    "            y (float): The y coordinate of the point\n",
    "\n",
    "        Returns:\n",
    "            bool: True if the point is inside the circle, False otherwise\n",
    "        '''\n",
    "        return x ** 2 + y ** 2 <= self.radius ** 2"
   ]
  },
  {
   "attachments": {},
   "cell_type": "markdown",
   "metadata": {},
   "source": [
    "Next we need the algorithm. Lets call it `calculate_area`. It should take a shape object _and_ a number of iterations as an argument. Write it in the cell below this one. You can use last week's homework to help you out here. Once it is written, we can test it in the cell below that one!"
   ]
  },
  {
   "cell_type": "code",
   "execution_count": null,
   "metadata": {
    "tags": [
     "grade"
    ]
   },
   "outputs": [],
   "source": []
  },
  {
   "attachments": {},
   "cell_type": "markdown",
   "metadata": {},
   "source": [
    "And the test code:"
   ]
  },
  {
   "cell_type": "code",
   "execution_count": null,
   "metadata": {},
   "outputs": [],
   "source": [
    "import math\n",
    "\n",
    "circle = Circle(4)\n",
    "expected_area = math.pi * 4 ** 2\n",
    "mc_area = calculate_area(circle, 10000)\n",
    "print(expected_area, mc_area)\n",
    "assert abs(mc_area - expected_area) < 1"
   ]
  },
  {
   "attachments": {},
   "cell_type": "markdown",
   "metadata": {},
   "source": [
    "We expect some rounding and some randomness here in the area calculation, as a result we need to use the funning looking check. If you are close to the limit, feel free to increase `1` by a little."
   ]
  },
  {
   "attachments": {},
   "cell_type": "markdown",
   "metadata": {},
   "source": [
    "## Plotting it\n",
    "\n",
    "Next, lets have a little more fun with this - make a scatter plot using `matplotlib` that shows the randomly generated points inside and outside of the `is_in_shape` - so green if inside shape, and red if outside it. The circle should reveal itself.\n",
    "\n",
    "Place the code in the next cell such that the cell after it will make the plot. It should be a scatter plot, with two colors for the different points (inside and outside the shape). No need to outline the shape - lets just use the methods we've already defined. If we run enough points, the shape should be \"obvious\"."
   ]
  },
  {
   "cell_type": "code",
   "execution_count": null,
   "metadata": {
    "tags": [
     "grade"
    ]
   },
   "outputs": [],
   "source": []
  },
  {
   "cell_type": "code",
   "execution_count": null,
   "metadata": {},
   "outputs": [],
   "source": [
    "plot_and_return_area(circle, 10000)"
   ]
  },
  {
   "attachments": {},
   "cell_type": "markdown",
   "metadata": {},
   "source": [
    "## A triangle\n",
    "\n",
    "Lets do a simple triangle. In the cell below create the `Shape` object, and it should have the API of the cell following."
   ]
  },
  {
   "cell_type": "code",
   "execution_count": null,
   "metadata": {
    "tags": [
     "grade"
    ]
   },
   "outputs": [],
   "source": []
  },
  {
   "cell_type": "code",
   "execution_count": null,
   "metadata": {},
   "outputs": [],
   "source": [
    "triangle = Triangle(0, 0, 1, 0, 0, 1)\n",
    "expected_area = 0.5\n",
    "mc_area = plot_and_return_area(triangle, 10000)\n",
    "print(expected_area, mc_area)\n",
    "assert abs(mc_area - expected_area) < 0.1"
   ]
  },
  {
   "attachments": {},
   "cell_type": "markdown",
   "metadata": {},
   "source": [
    "## Bonus\n",
    "\n",
    "Create a shape that takes a list of points and forms a polygon out of it. To test, start with a square and a triangle to see if you get the same results."
   ]
  },
  {
   "attachments": {},
   "cell_type": "markdown",
   "metadata": {},
   "source": [
    "# Submission\n",
    "\n",
    "Fantastic! You are done!\n",
    "\n",
    "To submit this HW:\n",
    "\n",
    "1. Reset the kernel and run it again top to bottom. The cell numbers for code cells should all be in order!\n",
    "2. Save this file\n",
    "3. Use your web browser to print to PDF (or save as PDF) the open notebook.\n",
    "4. Submit the PDF\n",
    "\n",
    "You are done!"
   ]
  }
 ],
 "metadata": {
  "kernelspec": {
   "display_name": ".venv",
   "language": "python",
   "name": "python3"
  },
  "language_info": {
   "codemirror_mode": {
    "name": "ipython",
    "version": 3
   },
   "file_extension": ".py",
   "mimetype": "text/x-python",
   "name": "python",
   "nbconvert_exporter": "python",
   "pygments_lexer": "ipython3",
   "version": "3.11.6"
  },
  "orig_nbformat": 4,
  "vscode": {
   "interpreter": {
    "hash": "97ee99713355a295790cf988e930f7ce05360b418008be67aa4c33ddf991f00c"
   }
  }
 },
 "nbformat": 4,
 "nbformat_minor": 2
}
