{
 "cells": [
  {
   "attachments": {},
   "cell_type": "markdown",
   "metadata": {},
   "source": [
    "# Software HW 3\n",
    "\n",
    "_Due 1/26/2024_\n",
    "\n",
    "For submission instructions, see the last section!\n",
    "\n",
    "Morse Code! We are going to build code to send Morse Code. We'll use the BlueFruit's speaker to emit dots and dashes. The hardware work will be done in the lab next week. So this week we'll use the HW to lay some of the software ground work for that lab.\n",
    "\n",
    "If you've not heard of Morse Code or aren't familiar with it, spend a little time on the web learning about it and its history to give you some context. Some of what comes below won't make sense to you unless you have at least a passing familiarity with it.\n",
    "\n",
    "Morse Code is a code - sounds that are short \"dots\" or longer \"dashes\" represent letters, words, and sentences. This image here shows the translation:\n",
    "\n",
    "<img src=\"morse.png\" alt=\"drawing\" width=\"400\"/>\n",
    "\n",
    "In particular note the rules, which we will need to pay close attention to. The goal of this homework is to turn a string, like \"Huskies rule\" into morse code.\n",
    "\n",
    "There is a second part of this lab, which involves writing a small Circuit BlueFruit program called _gravity lights_!"
   ]
  },
  {
   "attachments": {},
   "cell_type": "markdown",
   "metadata": {},
   "source": [
    "## The Code\n",
    "\n",
    "There are two things we need to do for this - first we need to translate the letters into the code, and second, we need to paste letters together correctly. So we need to come up with a code. Lets make it a series of tuples. For example, the letter \"A\" will be `(1,1), (3,1)` and the letters \"AB\" would be `(1,1), (3,1), (1,0), (3, 1), (1, 1), (1, 1), (1, 1)`. Each tuple contains two numbers. The first is the unit length, and the second is if there is sound or not. And there is implied break of unit length between each. This implied break is why the `(1,0)` actually represents a space of 3 units - one on each side.\n",
    "\n",
    "Think of the loop you might write processing a list and running the speaker. The loop can be totally dumb now - just takes each tuple, plays (or not) the sounds for the unit length, and then moves onto the next tuple, taking a break of a single unit. It needs to know _nothing_ about the letters or messages that are being sent.\n",
    "\n",
    "To build the code we have two options - first (and most ugly) is a giant if statement that does the translation. Or second, a dictionary with the letter as a key and the code as the value. Lets create a file (in this same directory as this notebook) called `morse_code.py`. Here is the structure of the file to get you started:\n",
    "\n",
    "```python\n",
    "code = {\n",
    "    'A': ...\n",
    "}\n",
    "```\n",
    "\n",
    "Now - should we just use the tuples as our data? We could... but I think that is pretty hard to read for a human. And human readable is important. So lets instead use `.` and `-` (dots and dashes!). So `A` would be `\".-\"`, and `B` would be `\"-...\"`. That will make it very easy to read. Our code will have to do the translation. "
   ]
  },
  {
   "cell_type": "code",
   "execution_count": 1,
   "metadata": {},
   "outputs": [],
   "source": [
    "from morse_code import code as mp\n",
    "assert mp['A'] == \".-\""
   ]
  },
  {
   "attachments": {},
   "cell_type": "markdown",
   "metadata": {},
   "source": [
    "Once that works, go ahead and fill in the rest of the code in the file, restart the notebook, and re-execute the above cell."
   ]
  },
  {
   "attachments": {},
   "cell_type": "markdown",
   "metadata": {},
   "source": [
    "## Building Words\n",
    "\n",
    "A word is pretty easy. In the next cell build a function called `word_to_morse_code` that:\n",
    "\n",
    "* Takes as a parameter a string with no spaces\n",
    "* Fails badly if a \",\" or \" \", or anything not in the code is sent to it\n",
    "* Returns a tape of the tuples above for the word. There should be no inter-word breaks.\n",
    "\n",
    "The cell afterwards contains a few tests."
   ]
  },
  {
   "cell_type": "code",
   "execution_count": 2,
   "metadata": {
    "tags": [
     "grade"
    ]
   },
   "outputs": [],
   "source": [
    "# ..."
   ]
  },
  {
   "cell_type": "code",
   "execution_count": 3,
   "metadata": {},
   "outputs": [],
   "source": [
    "assert word_to_morse_code('') == []\n",
    "assert word_to_morse_code('a') == [(1, 1), (3, 1)]\n",
    "assert word_to_morse_code('am') == [(1, 1), (3, 1), (1, 0), (3, 1), (3, 1)]\n",
    "assert word_to_morse_code('AM') == [(1, 1), (3, 1), (1, 0), (3, 1), (3, 1)]\n",
    "assert word_to_morse_code('hello') == [(1, 1), (1, 1), (1, 1), (1, 1), (1, 0), (1, 1), (1, 0), (1, 1), (3, 1), (1, 1), (1, 1), (1, 0), (1, 1), (3, 1), (1, 1), (1, 1), (1, 0), (3, 1), (3, 1), (3, 1)]"
   ]
  },
  {
   "attachments": {},
   "cell_type": "markdown",
   "metadata": {},
   "source": [
    "## Building a Sentence\n",
    "\n",
    "Next - lets glue words together. The rule is 7 units between words. Write a function `sentence_to_morse` that do this conversion. Again, I've included the `asserts` below to test your code to make sure we are all on the same page and ready for the lab!"
   ]
  },
  {
   "cell_type": "code",
   "execution_count": 4,
   "metadata": {
    "tags": [
     "grade"
    ]
   },
   "outputs": [],
   "source": [
    "..."
   ]
  },
  {
   "cell_type": "code",
   "execution_count": 5,
   "metadata": {},
   "outputs": [],
   "source": [
    "assert sentence_to_morse('') == []\n",
    "assert sentence_to_morse('a cat') == [(1, 1), (3, 1), (5, 0), (3, 1), (1, 1), (3, 1), (1, 1), (1, 0), (1, 1), (3, 1), (1, 0), (3, 1)]"
   ]
  },
  {
   "attachments": {},
   "cell_type": "markdown",
   "metadata": {},
   "source": [
    "## Bonus\n",
    "\n",
    "If you wanted to do more, some ideas. These aren't graded and don't hand them in. But if you were looking for more challenges and wanted to extend the work above:\n",
    "\n",
    "* Define a \"unit\" to be 0.5 seconds. Write a loop using sleep that will turn on/off the speaker as it should, in real time so you can see the code go by.\n",
    "\n",
    "BTW - you'll notice that I'm using the `assert` statement in this HW (and others) to make sure that the code works. In a sense, we've written the tests before we wrote the code. There is a technical name for this - test-driven development. It works very well for smaller bits of code - building blocks. In scientific programming we often have lots of these building blocks. In fact, when writing up this homework I also wrote the solutions at the same time, and I wrote the tests before I wrote the code itself.\n",
    "\n",
    "It can (and often is) taken further. The tests can exist as part of the source code. Thus if you ever find a bug in the wild, you can create a new test that enforces the correct behavior. You can then go and modify your code until it works. And then you can run all your other tests to make sure you didn't accidentally break anything. In many circumstances good testing can greatly improve the quality of the code you write without having an undue burden on your time. \n",
    "\n",
    "There are cases where this doesn't work well - for example, code that looks at large amounts of data. The tests take too long. And a small change in a calculation can really shift the results - or tests on one CPU can be different than another due to the floating point calculations being slightly different in hardware (yes, this happens often). There you have to test using different methods. Or wing it and hope what you publish is correct! (just kidding. Don't hope, verify!)"
   ]
  },
  {
   "cell_type": "markdown",
   "metadata": {},
   "source": [
    "# Gravity Lights\n",
    "\n",
    "The goal is program your BlueFruit so that it shows you which way is down (see attached video in canvas).\n",
    "\n",
    "1. When the BlueFruit is resting flat on the desk with the button pointing up all LED's should be _green_.\n",
    "1. When the BlueFruit is resting flat on the desk with the buttons pointing down, then all LED's should be _red_.\n",
    "1. When the BlueFruit is on its edge, a small string of LED's (say half - but we are flexible) should be lit, with the center of the string pointing the direction of gravity.\n",
    "\n",
    "I was able to get this code working in about 2.5 hours, starting from scratch. I used code from our labs as a starting point. The thing that took me by far the longest was understanding the coordinate system."
   ]
  },
  {
   "attachments": {},
   "cell_type": "markdown",
   "metadata": {},
   "source": [
    "# Submission\n",
    "\n",
    "Fantastic! You are done!\n",
    "\n",
    "To submit this HW:\n",
    "\n",
    "1. Reset the kernel and run it again top to bottom. The cell numbers for code cells should all be in order!\n",
    "2. Save this file\n",
    "3. Use your web browser to print to PDF (or save as PDF) the open notebook.\n",
    "4. Submit the PDF and your `morse_code.py` and your `gravity_lights.py` file all together.\n",
    "\n",
    "DO not lose track of the `morse_code.py` file or your solutions to this homework!! You'll need it for next week's lab!!\n",
    "\n",
    "You are done!"
   ]
  }
 ],
 "metadata": {
  "kernelspec": {
   "display_name": ".venv",
   "language": "python",
   "name": "python3"
  },
  "language_info": {
   "codemirror_mode": {
    "name": "ipython",
    "version": 3
   },
   "file_extension": ".py",
   "mimetype": "text/x-python",
   "name": "python",
   "nbconvert_exporter": "python",
   "pygments_lexer": "ipython3",
   "version": "3.11.0 (main, Oct 24 2022, 18:26:48) [MSC v.1933 64 bit (AMD64)]"
  },
  "orig_nbformat": 4,
  "vscode": {
   "interpreter": {
    "hash": "97ee99713355a295790cf988e930f7ce05360b418008be67aa4c33ddf991f00c"
   }
  }
 },
 "nbformat": 4,
 "nbformat_minor": 2
}
