{
 "cells": [
  {
   "attachments": {},
   "cell_type": "markdown",
   "metadata": {},
   "source": [
    "# Software HW 2\n",
    "\n",
    "_Due 1/24/2023_\n",
    "\n",
    "Lets try to do the HW in notebooks and files. For submission instructions, see the last section!"
   ]
  },
  {
   "attachments": {},
   "cell_type": "markdown",
   "metadata": {},
   "source": [
    "## `__builtin__` and the `complex` Object\n",
    "\n",
    "You've seen a fair amount of use of the `import` statement. There is a secret `import` statement at the top of *every* file - `from __builtin__ import *`. Everything in the `__builtin__` module comes into your environment:"
   ]
  },
  {
   "cell_type": "code",
   "execution_count": null,
   "metadata": {},
   "outputs": [],
   "source": [
    "dir(__builtin__)"
   ]
  },
  {
   "attachments": {},
   "cell_type": "markdown",
   "metadata": {},
   "source": [
    "Lets look at complex numbers, the `complex` object. First, we can get some information about it. You can use the `complex?` to get some sort info on it, and `help(complex)` to get more details."
   ]
  },
  {
   "cell_type": "code",
   "execution_count": null,
   "metadata": {},
   "outputs": [],
   "source": [
    "complex?"
   ]
  },
  {
   "cell_type": "code",
   "execution_count": null,
   "metadata": {},
   "outputs": [],
   "source": [
    "help(complex)"
   ]
  },
  {
   "attachments": {},
   "cell_type": "markdown",
   "metadata": {},
   "source": [
    "But the keys are the `real` and `imag` attributes of the complex number. The top of the `help` output shows you how to create a complex number.\n",
    "\n",
    "In the following cell we can create a complex number:"
   ]
  },
  {
   "cell_type": "code",
   "execution_count": null,
   "metadata": {},
   "outputs": [],
   "source": [
    "c1 = complex(3, 22)\n",
    "print(c1)"
   ]
  },
  {
   "attachments": {},
   "cell_type": "markdown",
   "metadata": {},
   "source": [
    "Make the output of the next cell look like:\n",
    "\n",
    "```text\n",
    "Complex Number c1 = (3, 22)\n",
    "```"
   ]
  },
  {
   "cell_type": "code",
   "execution_count": null,
   "metadata": {},
   "outputs": [],
   "source": []
  },
  {
   "attachments": {},
   "cell_type": "markdown",
   "metadata": {},
   "source": [
    "Create 3 other complex numbers (`c2`, `c3`, `c4`):"
   ]
  },
  {
   "cell_type": "code",
   "execution_count": null,
   "metadata": {},
   "outputs": [],
   "source": []
  },
  {
   "attachments": {},
   "cell_type": "markdown",
   "metadata": {},
   "source": [
    "And we can build them into a list:"
   ]
  },
  {
   "cell_type": "code",
   "execution_count": null,
   "metadata": {},
   "outputs": [],
   "source": [
    "complex_list = [c1, c2, c3, c4]"
   ]
  },
  {
   "attachments": {},
   "cell_type": "markdown",
   "metadata": {},
   "source": [
    "Lets loop over the complex numbers. Write a two `for` loops, first one adds up the real parts and prints it out, and the second that adds up the complex parts and prints that total out.\n",
    "\n",
    "The output from this next cell should be two numbers. The first is the sum of the real and the second the sum of the imaginary."
   ]
  },
  {
   "cell_type": "code",
   "execution_count": null,
   "metadata": {},
   "outputs": [],
   "source": []
  },
  {
   "attachments": {},
   "cell_type": "markdown",
   "metadata": {},
   "source": [
    "`complex` numbers can be added using the normal `+` notation! The above should match with the following line:"
   ]
  },
  {
   "cell_type": "code",
   "execution_count": null,
   "metadata": {},
   "outputs": [],
   "source": [
    "print(c1+c2+c3+c4)"
   ]
  },
  {
   "attachments": {},
   "cell_type": "markdown",
   "metadata": {},
   "source": [
    "By the way, we can get very _pythonic_ in how we write the above cells. A better way to write this:"
   ]
  },
  {
   "cell_type": "code",
   "execution_count": null,
   "metadata": {},
   "outputs": [],
   "source": [
    "print(sum(c.real for c in complex_list))\n",
    "print(sum(c.imag for c in complex_list))\n",
    "print(sum(complex_list))"
   ]
  },
  {
   "attachments": {},
   "cell_type": "markdown",
   "metadata": {},
   "source": [
    "The first two are list comprehensions that convert the `complex_list` into a list of its real components (or imaginary components). The `sum` function does exactly what you think it does!"
   ]
  },
  {
   "attachments": {},
   "cell_type": "markdown",
   "metadata": {},
   "source": [
    "In the next cell print out all members of the `complex_list` in a way that looks something like this:\n",
    "\n",
    "```text\n",
    "All the complex numbers are 3.0+22.0j, 1.0+2.0j, 2.0+3.0j, 4.0+5.0j\n",
    "```\n",
    "\n",
    "Bonus if you can use the `join` method of a the string object (but it is ok to solve it other ways!)."
   ]
  },
  {
   "cell_type": "code",
   "execution_count": null,
   "metadata": {},
   "outputs": [],
   "source": []
  },
  {
   "cell_type": "markdown",
   "metadata": {},
   "source": [
    "## Binary Numbers - and a binary clock\n",
    "\n",
    "In a lab later on we will build a binary timer using the neopixels on your bluefruit: it will count off the seconds, in binary, using the neopixels to display the count.\n",
    "\n",
    "Some introductory reading:\n",
    "\n",
    "* What are binary numbers? They are just numbers that count up base-2, similar to our normal system, which is base-10. A [reasonable introduction can be found here](https://engineersphere.com/how-to-count-in-binary) if you are unfamiliar.\n",
    "\n",
    "We will develop some of the basic code here in this notebook, and then move it over to the bluefruit. Debugging is a little bit easier in a notebook as compared to the bluefruit itself.\n",
    "\n",
    "A quick note on debugging. You can put `help(str)` in your `code.py` file, open the serial bridge, and then save the `code.py` file on your bluefruit. You'll see a very different set of methods, etc., come back than you see if you execute `help(str)` here. This technique helped me a lot when writing this lab and I was trying to understand which methods are supported and which ones are not: the python implementation on our computers is not the same as on the BlueFruit!!\n",
    "\n",
    "## Design\n",
    "\n",
    "We can think of the design of this code in several blocks. Simply:\n",
    "\n",
    "1. Increment a counter by one each second\n",
    "1. Turn the value of the counter into a binary number\n",
    "1. Use the binary number to drive the neopixels.\n",
    "\n",
    "We will make heavy use of functions, etc. to build this in a nice composable way.\n",
    "\n",
    "Second thing to think about is how we will put this in files. Lets do it in two files. THe first file will be `binary_helpers.py` - we can put the binary converter and the display methods in there. The counter function and main loop we'll put in a file called `binary_clock.py`."
   ]
  },
  {
   "cell_type": "markdown",
   "metadata": {},
   "source": [
    "## Counter Loop\n",
    "\n",
    "Our first job is to create a function that will take a counter and return it incremented by one - and will have paused for 1 second. We can then use this repeatedly to implement our main loop on the bluefruit.\n",
    "\n",
    "This is the first time we've talked about time in python. The `time` module is perfect for this. And has a `sleep` function in it."
   ]
  },
  {
   "cell_type": "code",
   "execution_count": null,
   "metadata": {},
   "outputs": [],
   "source": [
    "from time import asctime, sleep\n",
    "\n",
    "print(asctime())\n",
    "sleep(1.0)\n",
    "print(asctime())"
   ]
  },
  {
   "cell_type": "markdown",
   "metadata": {},
   "source": [
    "Lets create the function `inc_and_wait(counter)`. The function is very simple. Below we've got the function specification - fill in the actual code."
   ]
  },
  {
   "cell_type": "code",
   "execution_count": null,
   "metadata": {},
   "outputs": [],
   "source": [
    "def inc_and_wait(counter):\n",
    "    '''\n",
    "    Increments the counter and waits for 1 second.\n",
    "\n",
    "    Args:\n",
    "        counter (int): Current value of the counter. +1 is returned.\n",
    "\n",
    "    Returns:\n",
    "        int: counter + 1\n",
    "    '''\n",
    "    pass"
   ]
  },
  {
   "cell_type": "markdown",
   "metadata": {},
   "source": [
    "Our main loop (at least the part that increments the counter) might look something like the following:\n",
    "\n",
    "```python\n",
    "counter = 0\n",
    "while True:\n",
    "    b = as_binary(counter)\n",
    "    display_binary(b)\n",
    "    counter = inc_and_wait(counter)\n",
    "```"
   ]
  },
  {
   "cell_type": "markdown",
   "metadata": {},
   "source": [
    "## Converting a number to binary\n",
    "\n",
    "The function `as_binary` needs to convert from the integer to a string with the integer as a binary representation. It is a little ironic we have to go through this since all computers store integers in binary representations in the first place!\n",
    "\n",
    "The second thing `as_binary` has to do is make sure it hands back 10 binary digits - one for each neopixel. So, 1 would be converted to `0000000001` and 2 would be `0000000010`, etc.\n",
    "\n",
    "The python language contains a `__builtin__` that converts a number to its binary representaion. It is called `bin`:"
   ]
  },
  {
   "cell_type": "code",
   "execution_count": null,
   "metadata": {},
   "outputs": [],
   "source": [
    "bin(1), bin(2), bin(3)"
   ]
  },
  {
   "cell_type": "markdown",
   "metadata": {},
   "source": [
    "We need to remove the `0b` prefix and pad it out to 10 characters with `0`'s. To do this we'll use string `slicing`. See Chapter 4 of your book, _Working with part of a list_. The following is an example, with a string (which is a list of characters):"
   ]
  },
  {
   "cell_type": "code",
   "execution_count": null,
   "metadata": {},
   "outputs": [],
   "source": [
    "s = \"hi there\"\n",
    "s[3:]"
   ]
  },
  {
   "cell_type": "markdown",
   "metadata": {},
   "source": [
    "The final question is how to add the zeros. There are two methods to do this easily in python:\n",
    "\n",
    "* The `rjust` method of the string object (great idea - CircuitPython does not support).\n",
    "* The `zfill` method of the string object (great idea - CircuitPython does not support).\n",
    "* Using a format specifier in a `f` string.\n",
    "* Using a loop.\n",
    "* Using string concatenation and the `*` operator\n",
    "\n",
    "We are now ready to write our `as_binary` method:"
   ]
  },
  {
   "cell_type": "code",
   "execution_count": null,
   "metadata": {},
   "outputs": [],
   "source": [
    "def as_binary(n):\n",
    "    '''\n",
    "    Returns the 10-digit binary representation of an integer.\n",
    "\n",
    "    Args:\n",
    "        n (int): Integer to be converted to binary.\n",
    "\n",
    "    Returns:\n",
    "        str: Binary representation of n.\n",
    "    '''\n",
    "    return \"not implemented\""
   ]
  },
  {
   "cell_type": "markdown",
   "metadata": {},
   "source": [
    "Lets use the `assert` function to check that this is working correctly. It is basically a simple way of writing some tests (test driven development - look on the web for numerous examples):"
   ]
  },
  {
   "cell_type": "code",
   "execution_count": null,
   "metadata": {},
   "outputs": [],
   "source": [
    "assert as_binary(0) == '0000000000'\n",
    "assert as_binary(1) == '0000000001'\n",
    "assert as_binary(10) == '0000001010'\n",
    "assert as_binary(100) == '0001100100'"
   ]
  },
  {
   "cell_type": "markdown",
   "metadata": {},
   "source": [
    "## Display The Number\n",
    "\n",
    "Of course, this part really is going to have to take place on the neopixels - and that code will only make sense on the actual bluefruit device. However, we can get close enough we can see the whole thing working.\n",
    "\n",
    "If you look in the neopixel code from your Lab 1, you'll see how to access the neopixels. They are a 10 element list, and each value should be a tuple of 3 RGB values. Our job, then is to convert the binary characters to either dark or light (say green - but when you move it down to the bluefruit do any color you want!).\n",
    "\n",
    "Lets design the function so we can test it up here, but it will still work down on the bluefruit when we pass in the pixels. You have all the bits, so lets go ahead and write it (and then do some simple tests):"
   ]
  },
  {
   "cell_type": "code",
   "execution_count": null,
   "metadata": {},
   "outputs": [],
   "source": [
    "def display_binary(binary, pixels):\n",
    "    '''Converts a 10 digit binary number to pixels turned on or off with the color\n",
    "    green.\n",
    "\n",
    "    Args:\n",
    "        binary (str): The 10-digit binary number to be displayed.\n",
    "        pixels (List[Tuple[int, int, int]]): The list of pixels to get set to green or off.\n",
    "    '''\n",
    "    pass"
   ]
  },
  {
   "cell_type": "markdown",
   "metadata": {},
   "source": [
    "Lets write one test - make sure this works:"
   ]
  },
  {
   "cell_type": "code",
   "execution_count": null,
   "metadata": {},
   "outputs": [],
   "source": [
    "test_pixels = [(0, 10, 0)]*10\n",
    "display_number('0000000000', test_pixels)\n",
    "assert test_pixels == [(0, 0, 0)]*10"
   ]
  },
  {
   "cell_type": "markdown",
   "metadata": {},
   "source": [
    "Now, you write a test, but for the binary number 2:"
   ]
  },
  {
   "cell_type": "code",
   "execution_count": null,
   "metadata": {},
   "outputs": [],
   "source": []
  },
  {
   "cell_type": "markdown",
   "metadata": {},
   "source": [
    "## Next Steps\n",
    "\n",
    "We've done as much as we can here! Now, copy this working code down to the `binary_clock.py` and `binary_helpers.py` files, change `code.py` to import `binary_clock`, and then modify binary clock until this works!"
   ]
  },
  {
   "attachments": {},
   "cell_type": "markdown",
   "metadata": {},
   "source": [
    "# Submission\n",
    "\n",
    "Fantastic! You are done!\n",
    "\n",
    "To submit this HW:\n",
    "\n",
    "1. Reset the kernel and run it again top to bottom. The cell numbers for code cells should all be in order!\n",
    "2. Save this file\n",
    "3. Use your web browser to print to PDF (or save as PDF) the open notebook.\n",
    "4. Submit the PDF\n",
    "5. 'binary_clock.py' and 'binary_helpers.py'\n",
    "6. A short video of your timer in action.\n",
    "\n",
    "You are done!"
   ]
  }
 ],
 "metadata": {
  "kernelspec": {
   "display_name": ".venv",
   "language": "python",
   "name": "python3"
  },
  "language_info": {
   "codemirror_mode": {
    "name": "ipython",
    "version": 3
   },
   "file_extension": ".py",
   "mimetype": "text/x-python",
   "name": "python",
   "nbconvert_exporter": "python",
   "pygments_lexer": "ipython3",
   "version": "3.10.8"
  },
  "orig_nbformat": 4,
  "vscode": {
   "interpreter": {
    "hash": "bd01b7ee67a4d4fc1045e5d17420f4623fa0a6b8a299bc53f70ca8869072ed47"
   }
  }
 },
 "nbformat": 4,
 "nbformat_minor": 2
}
