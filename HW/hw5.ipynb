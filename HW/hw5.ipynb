{
 "cells": [
  {
   "attachments": {},
   "cell_type": "markdown",
   "metadata": {},
   "source": [
    "# Software HW 5\n",
    "\n",
    "_Due 2/21/2025_\n",
    "\n",
    "For submission instructions, see the last section!"
   ]
  },
  {
   "attachments": {},
   "cell_type": "markdown",
   "metadata": {},
   "source": [
    "## Calculating $\\pi$ using random numbers\n",
    "\n",
    "What is the area of a circle that is radius of 1? $\\pi r^2$, with $r=1$, then $\\pi r^2 = 1$. This simple relationship is at the heart of this method.\n",
    "\n",
    "Consider the below image (which is very large, sorry), a square of length 2 unites on each side embedded in it a circle of radius $r=1$. If we have points randomly distributed over the 2D surface, then the fraction that land inside of the circle must be proportional to its area.\n",
    "\n",
    "![The unit circle inside a square of 2x2 dimensions](unit-circle-and-square.png)"
   ]
  },
  {
   "attachments": {},
   "cell_type": "markdown",
   "metadata": {},
   "source": [
    "In the next cell, create a function `calc_circle` which will calculate the value of $\\pi$ for a given number of iterations. The code in the following cell should run once you've created this function."
   ]
  },
  {
   "cell_type": "code",
   "execution_count": null,
   "metadata": {
    "tags": [
     "grade"
    ]
   },
   "outputs": [],
   "source": []
  },
  {
   "attachments": {},
   "cell_type": "markdown",
   "metadata": {},
   "source": [
    "And with the above cell, the following should run:"
   ]
  },
  {
   "cell_type": "code",
   "execution_count": null,
   "metadata": {},
   "outputs": [],
   "source": [
    "for i in range(3, 7):\n",
    "    iterations = 1000 + 10**i\n",
    "    print(f'pi, calculated with {iterations} iterations: {calc_circle(iterations)}')"
   ]
  },
  {
   "attachments": {},
   "cell_type": "markdown",
   "metadata": {},
   "source": [
    "## How good is this algorithm?\n",
    "\n",
    "Much more interesting is to run each step 10 times, and calculate the average and standard deviation. Write code in the cell below that produces the following sample output:\n",
    "\n",
    "```text\n",
    "Iterations:   1000 Average: 3.1348, Standard Deviation: 0.032987\n",
    "Iterations:   5000 Average: 3.1503, Standard Deviation: 0.015101\n",
    "Iterations:  10000 Average: 3.1392, Standard Deviation: 0.015691\n",
    "Iterations:  20000 Average: 3.1411, Standard Deviation: 0.0066855\n",
    "Iterations:  30000 Average: 3.1442, Standard Deviation: 0.01301\n",
    "Iterations:  40000 Average: 3.1405, Standard Deviation: 0.0072827\n",
    "Iterations:  50000 Average: 3.1454, Standard Deviation: 0.0066963\n",
    "Iterations:  60000 Average: 3.1434, Standard Deviation: 0.0077165\n",
    "Iterations:  70000 Average: 3.1435, Standard Deviation: 0.0072079\n",
    "Iterations:  80000 Average: 3.1401, Standard Deviation: 0.004878\n",
    "Iterations:  90000 Average: 3.1427, Standard Deviation: 0.0054975\n",
    "Iterations: 100000 Average: 3.1423, Standard Deviation: 0.004511\n",
    "Iterations: 200000 Average: 3.1424, Standard Deviation: 0.0030394\n",
    "```\n",
    "\n",
    "Obviously, your's won't be the same (but do make some effort to understand how to make the formatting as nice)."
   ]
  },
  {
   "cell_type": "code",
   "execution_count": null,
   "metadata": {
    "tags": [
     "grade"
    ]
   },
   "outputs": [],
   "source": []
  },
  {
   "attachments": {},
   "cell_type": "markdown",
   "metadata": {},
   "source": [
    "## Bonus\n",
    "\n",
    "* Start thinking about how this could be re-implemented in `numpy` - which we will be playing with on Friday (if all goes well).\n",
    "* Could you use this to calculate the area inside an arbitrary shape (possible future homework, btw)."
   ]
  },
  {
   "attachments": {},
   "cell_type": "markdown",
   "metadata": {},
   "source": [
    "# Submission\n",
    "\n",
    "Fantastic! You are done!\n",
    "\n",
    "To submit this HW:\n",
    "\n",
    "1. Reset the kernel and run it again top to bottom. The cell numbers for code cells should all be in order!\n",
    "2. Save this file\n",
    "3. Use your web browser to print to PDF (or save as PDF) the open notebook.\n",
    "4. Submit the PDF\n",
    "\n",
    "You are done!"
   ]
  }
 ],
 "metadata": {
  "kernelspec": {
   "display_name": ".venv",
   "language": "python",
   "name": "python3"
  },
  "language_info": {
   "codemirror_mode": {
    "name": "ipython",
    "version": 3
   },
   "file_extension": ".py",
   "mimetype": "text/x-python",
   "name": "python",
   "nbconvert_exporter": "python",
   "pygments_lexer": "ipython3",
   "version": "3.11.6"
  },
  "orig_nbformat": 4,
  "vscode": {
   "interpreter": {
    "hash": "91cc1d34ef0582b00b6e94d9f7ac2b9b53d9b31b0e7278db8b56ff132166e659"
   }
  }
 },
 "nbformat": 4,
 "nbformat_minor": 2
}
