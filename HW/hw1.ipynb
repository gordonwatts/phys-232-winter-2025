{
 "cells": [
  {
   "attachments": {},
   "cell_type": "markdown",
   "metadata": {},
   "source": [
    "# HW 1\n",
    "\n",
    "_Due 1/17/2025_\n",
    "\n",
    "Lets try to do the HW in notebooks and files. For submission instructions, see the last section!"
   ]
  },
  {
   "attachments": {},
   "cell_type": "markdown",
   "metadata": {},
   "source": [
    "## Running a file\n",
    "\n",
    "Mostly we've been running our code from notebooks. It is very common, however, to run everything from the command line! This is actually more popular than running things from Jupyter notebooks in the real world. However, *nothing* beats a notebook for a learning environment.\n",
    "\n",
    "Lets try running a file from the command line, though embedded here in the notebook so we can record what happens for submission of the homework.\n",
    "\n",
    "First, create a file called `hw_01_sample.py`, and in it python lines that will do the following:\n",
    "\n",
    "1. Set the variable `message` to be some string. It must have both upper and lower case letters in it - everything else is arbitrary.\n",
    "   * In the below steps `message` should never be updated.\n",
    "1. Print out the message\n",
    "1. Use the `upper` method on the string class to print out an upper case version of the `message`. If you aren't sure - just use a search engine to find out how to make a python string upper case. Your book also has examples. Print the result out.\n",
    "1. Do the same thing, but make it all lower case.\n",
    "1. Print out the `isupper` method on the `message` variable. And print out the result of the `isupper` method on the message after the `upper` method has been applied. "
   ]
  },
  {
   "attachments": {},
   "cell_type": "markdown",
   "metadata": {},
   "source": [
    "We can now use the `!` keyword to execute a commend in the Linux shell. Here, we run the python interpreter on that file:"
   ]
  },
  {
   "cell_type": "code",
   "execution_count": null,
   "metadata": {},
   "outputs": [],
   "source": [
    "!python hw_01_sample.py"
   ]
  },
  {
   "attachments": {},
   "cell_type": "markdown",
   "metadata": {},
   "source": [
    "The output of the above should be something like:\n",
    "\n",
    "```text\n",
    "This is the best food, EVER!\n",
    "THIS IS THE BEST FOOD, EVER!\n",
    "this is the best food, ever!\n",
    "False\n",
    "True\n",
    "```"
   ]
  },
  {
   "attachments": {},
   "cell_type": "markdown",
   "metadata": {},
   "source": [
    "I encourage you to also to create a terminal with the `+` button in your `JupyterLab` interface (the \"tabs\" at the top of this). Then `cd HW` to change the directory to the folder where this is located. And then `python hw_01_sample.py` will run the code. Python code can be run in a notebook or a file, but how you write it is different for the two.\n",
    "\n",
    "* Consider notebooks when you want to integrate nicely formatted text and plots/graphics and codes. Some journals will accept properly formatted notebooks as papers!\n",
    "* Use `.py` files when you want to write utilities that will be used by multiple people or tasks - code libraries, or need to write a large task that you will need to run repeatedly or automate."
   ]
  },
  {
   "attachments": {},
   "cell_type": "markdown",
   "metadata": {},
   "source": [
    "And we can include the file for \"grading\" purposes (so we can see when you hand in this notebook):"
   ]
  },
  {
   "cell_type": "code",
   "execution_count": null,
   "metadata": {},
   "outputs": [],
   "source": [
    "!cat hw_01_sample.py"
   ]
  },
  {
   "attachments": {},
   "cell_type": "markdown",
   "metadata": {},
   "source": [
    "## Parameterized Strings\n",
    "\n",
    "Sometimes you want to print out a message that has a variable. For example, if `n_apples = 20` you would like to print out `There are 20 apples` or similar.\n",
    "\n",
    "There are many ways to do this, but the easiest is using `f-strings` in python:\n",
    "\n",
    "```python\n",
    "print(f\"There are {n_apples} apples.\")\n",
    "```\n",
    "\n",
    "Note the `f` in front of the quotes! That is that is what indicates to python that this is a parameterized string.\n",
    "\n",
    "You can see that in action here:"
   ]
  },
  {
   "cell_type": "code",
   "execution_count": null,
   "metadata": {},
   "outputs": [],
   "source": [
    "n_apples = 20\n",
    "print(f\"There are {n_apples} apples.\")"
   ]
  },
  {
   "attachments": {},
   "cell_type": "markdown",
   "metadata": {},
   "source": [
    "Any valid python expression can exist between the `{` and the `}`.\n",
    "\n",
    "Lets define a list of how many apples are 4 baskets:"
   ]
  },
  {
   "cell_type": "code",
   "execution_count": null,
   "metadata": {},
   "outputs": [],
   "source": [
    "baskets_of_apples = [10, 20, 40, 50]"
   ]
  },
  {
   "attachments": {},
   "cell_type": "markdown",
   "metadata": {},
   "source": [
    "In the next cell create the code that will print out:\n",
    "\n",
    "```\n",
    "There are 20 apples.\n",
    "There are 40 apples.\n",
    "There are 80 apples.\n",
    "There are 100 apples.\n",
    "```"
   ]
  },
  {
   "cell_type": "code",
   "execution_count": null,
   "metadata": {},
   "outputs": [],
   "source": []
  },
  {
   "cell_type": "markdown",
   "metadata": {},
   "source": [
    "# SMA From Lecture\n",
    "\n",
    "Copy in the code below from lecture to do Simple Moving Average smoothing of the `random_line`. Calculate the square of the difference between the straight line and the smoothed line ($x_i^2 - y_i^2)$ where $x$ are the smoothed line items and $y$ is the straight line). Plot that in a histogram using `plt.hist(squares_of_differences)`. Add as many cells of `markdown` and calculation as you need - please be sure to explain what you are doing (as this is part of your grade).\n",
    "\n",
    "Note that the value comes out quite large - because the `straight_line` keeps getting larger and larger. So scale the result by the value of `scaled_line` at each point so you are plotting a histogram of the _fractional_ difference."
   ]
  },
  {
   "cell_type": "code",
   "execution_count": null,
   "metadata": {},
   "outputs": [],
   "source": []
  },
  {
   "cell_type": "markdown",
   "metadata": {},
   "source": [
    "_Note:_ This _square of the difference_ should be familiar - it is used for the least-squares straight line fit. It is also a common function-of-merit used in machine learning."
   ]
  },
  {
   "attachments": {},
   "cell_type": "markdown",
   "metadata": {},
   "source": [
    "# Submission\n",
    "\n",
    "Fantastic! You are done!\n",
    "\n",
    "To submit this HW:\n",
    "\n",
    "1. Reset the kernel and run it again top to bottom. The cell numbers for code cells should all be in order!\n",
    "2. Save this file\n",
    "3. Use your web browser to print to PDF (or save as PDF) the open notebook.\n",
    "4. Submit the PDF\n",
    "\n",
    "You are done!"
   ]
  },
  {
   "cell_type": "markdown",
   "metadata": {},
   "source": []
  }
 ],
 "metadata": {
  "kernelspec": {
   "display_name": ".venv",
   "language": "python",
   "name": "python3"
  },
  "language_info": {
   "codemirror_mode": {
    "name": "ipython",
    "version": 3
   },
   "file_extension": ".py",
   "mimetype": "text/x-python",
   "name": "python",
   "nbconvert_exporter": "python",
   "pygments_lexer": "ipython3",
   "version": "3.10.8"
  },
  "orig_nbformat": 4,
  "vscode": {
   "interpreter": {
    "hash": "bd01b7ee67a4d4fc1045e5d17420f4623fa0a6b8a299bc53f70ca8869072ed47"
   }
  }
 },
 "nbformat": 4,
 "nbformat_minor": 2
}
