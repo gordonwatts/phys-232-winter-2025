{
 "cells": [
  {
   "cell_type": "markdown",
   "metadata": {},
   "source": [
    "# The AI Way\n",
    "\n",
    "How good is AI?\n",
    "\n",
    "Try \"Print out the numbers from 1 to 10\""
   ]
  },
  {
   "cell_type": "code",
   "execution_count": null,
   "metadata": {},
   "outputs": [],
   "source": []
  },
  {
   "cell_type": "markdown",
   "metadata": {},
   "source": [
    "Try \"Use an implied loop to print out the numbers from 1 to 10\""
   ]
  },
  {
   "cell_type": "code",
   "execution_count": null,
   "metadata": {},
   "outputs": [],
   "source": []
  },
  {
   "cell_type": "markdown",
   "metadata": {},
   "source": [
    "A few things to note:\n",
    "\n",
    "1. You can get GitHub CoPilot for free because you are part of an EDU. Strongly recommended.\n",
    "1. It did what we asked it to. For `python` in particular, the AI's out there are really very good.\n",
    "1. But note that it did different types of print outs... we'd have to get more specific in our instructions: \"Use an implied loop to print out the numbers from 1 to 10, each on a separate line\"."
   ]
  },
  {
   "cell_type": "code",
   "execution_count": null,
   "metadata": {},
   "outputs": [],
   "source": []
  },
  {
   "cell_type": "markdown",
   "metadata": {},
   "source": [
    "What about something more complex. This was in an email from Bob Foster, a congress person from Illinois. He used to be an accelerator physicist at [Fermilab](https://www.fnal.gov/) - the third ever website, btw. He wrote that taken on a small Christmas break project, playing with these AI assistants. He tried this prompt:\n",
    "\n",
    "> Make a table showing the change in the strength of the US Dollar under the last 6 US presidents, using the percentage change in the Dollar Index DXY during their term in office. Make a bar graph of these results with a python program using matplotlib. Positive bar graphs should be blue and indicated with a positive(\"+\") percentage above the bar graph, and negative bar graphs should be red and indicated with a negative (\"-\") percentage below the bar graph. For each president, download the thumbnail picture from their Wikipedia page and place the image at the horizontal and vertical center of each bar graph. Do not use the plt.tight_layout() option on matplotlib because it is full of annoying glitches."
   ]
  },
  {
   "cell_type": "code",
   "execution_count": null,
   "metadata": {},
   "outputs": [],
   "source": []
  },
  {
   "cell_type": "markdown",
   "metadata": {},
   "source": [
    "## Summary\n",
    "\n",
    "* Use it\n",
    "* Don't use it to generate the data!! Or cross-check it at the very least.\n",
    "* You will spend time debugging.\n",
    "* You sort-of have to know what you want when you need it.\n",
    "\n",
    "**\"Don't ask a question you don't already know the answer to\"**"
   ]
  }
 ],
 "metadata": {
  "kernelspec": {
   "display_name": ".venv",
   "language": "python",
   "name": "python3"
  },
  "language_info": {
   "codemirror_mode": {
    "name": "ipython",
    "version": 3
   },
   "file_extension": ".py",
   "mimetype": "text/x-python",
   "name": "python",
   "nbconvert_exporter": "python",
   "pygments_lexer": "ipython3",
   "version": "3.13.1"
  }
 },
 "nbformat": 4,
 "nbformat_minor": 2
}
