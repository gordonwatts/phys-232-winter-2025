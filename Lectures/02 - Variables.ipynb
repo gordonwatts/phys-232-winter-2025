{
 "cells": [
  {
   "attachments": {},
   "cell_type": "markdown",
   "metadata": {},
   "source": [
    "# Lecture 1\n",
    "\n",
    "This is a Jupyter Notebook. :-) For lectures, we'll use this as a framework for in-class work.\n",
    "\n",
    "Each `cell` is either python code or text (rich text in a format known as markdown).\n",
    "\n",
    "You often be creating new cells, changing their formats, and other things. It takes some getting used to."
   ]
  },
  {
   "cell_type": "code",
   "execution_count": null,
   "metadata": {},
   "outputs": [],
   "source": [
    "This is a code cell, but clearly, it should be a text cell. Use the web interface to change how the cell is interpreted."
   ]
  },
  {
   "attachments": {},
   "cell_type": "markdown",
   "metadata": {},
   "source": [
    "Below this cell, create a new _code_ cell. Type in `print(10)` and then hit `Shift-Enter` (the two keys, at the same time)."
   ]
  },
  {
   "attachments": {},
   "cell_type": "markdown",
   "metadata": {},
   "source": [
    "## Simple Python - data\n",
    "\n",
    "Lets start with a few things so we can use them later on.\n",
    "\n",
    "Simple Data:\n",
    "\n",
    "* A number is just as you would expect - like `10` or `5.3`.\n",
    "* Basic operations use `+`, `-`, `/`, and `*`\n",
    "* Strings are any text that is surrounded by either `\"` or `'` (both are valid - choose one and stick with it).\n",
    "\n",
    "To print anything out just put it in the `print` function call. For example, alter the below line to print out `10.55` or `\"Hello World\"`"
   ]
  },
  {
   "cell_type": "code",
   "execution_count": null,
   "metadata": {},
   "outputs": [],
   "source": [
    "print()"
   ]
  },
  {
   "attachments": {},
   "cell_type": "markdown",
   "metadata": {},
   "source": [
    "## Metadata\n",
    "\n",
    "As an example of some metadata that is attached to data - consider its type. You can determine the `type` of some bit of data by using the `type` call - like `type(10)`. "
   ]
  },
  {
   "cell_type": "code",
   "execution_count": null,
   "metadata": {},
   "outputs": [],
   "source": [
    "type(10)"
   ]
  },
  {
   "attachments": {},
   "cell_type": "markdown",
   "metadata": {},
   "source": [
    "Show the type of a string is `str` using the `type` function as it was just used:"
   ]
  },
  {
   "cell_type": "code",
   "execution_count": null,
   "metadata": {},
   "outputs": [],
   "source": []
  },
  {
   "cell_type": "markdown",
   "metadata": {},
   "source": [
    "What is the `type` of a type?"
   ]
  },
  {
   "cell_type": "code",
   "execution_count": null,
   "metadata": {},
   "outputs": [],
   "source": []
  },
  {
   "attachments": {},
   "cell_type": "markdown",
   "metadata": {},
   "source": [
    "# Variables\n",
    "\n",
    "Variables are \"tags\" that point to or reference some data in memory.\n",
    "\n",
    "The next cell assigns `a` to point to the object in memory that references the number `10`."
   ]
  },
  {
   "cell_type": "code",
   "execution_count": null,
   "metadata": {},
   "outputs": [],
   "source": [
    "a = 10"
   ]
  },
  {
   "attachments": {},
   "cell_type": "markdown",
   "metadata": {},
   "source": [
    "And now we can print out `a`:"
   ]
  },
  {
   "cell_type": "code",
   "execution_count": null,
   "metadata": {},
   "outputs": [],
   "source": [
    "print(a)"
   ]
  },
  {
   "attachments": {},
   "cell_type": "markdown",
   "metadata": {},
   "source": [
    "In the next cell, set b to point to the string `I am a Husky!`, and print it out (it is totally fine to have more than one line in a code cell!):"
   ]
  },
  {
   "cell_type": "code",
   "execution_count": null,
   "metadata": {},
   "outputs": [],
   "source": [
    "b = "
   ]
  },
  {
   "attachments": {},
   "cell_type": "markdown",
   "metadata": {},
   "source": [
    "Python will track variables as long as it can. There are some rules (called scoping rules) the govern this, and we will cover that later.\n",
    "\n",
    "And you can reassign variables at any time to something new! In the next code cell:\n",
    "\n",
    "1. print out the value of `b`\n",
    "1. Assign the number `5.5` to `b`\n",
    "1. print out the value of `b` again.\n",
    "\n",
    "Question: What happened to the object `I am a Husky!`?"
   ]
  },
  {
   "cell_type": "code",
   "execution_count": null,
   "metadata": {},
   "outputs": [],
   "source": []
  },
  {
   "attachments": {},
   "cell_type": "markdown",
   "metadata": {},
   "source": [
    "What happens if we ask python about something it doesn't know about? Try running this next cell, which clearly contains an _error_."
   ]
  },
  {
   "cell_type": "code",
   "execution_count": null,
   "metadata": {},
   "outputs": [],
   "source": [
    "print(bogus_variable_name)"
   ]
  },
  {
   "attachments": {},
   "cell_type": "markdown",
   "metadata": {},
   "source": [
    "That **stack trace** tries to tell you exactly how you go there, and exactly where the error occurred. Tracking down this sort of error is painful - and these stack traces are the first step in trying to figure it out. I would guess you'll be seeing a lot of these this quarter."
   ]
  },
  {
   "attachments": {},
   "cell_type": "markdown",
   "metadata": {},
   "source": [
    "## Modules\n",
    "\n",
    "These are super useful. As soon as you have some really well debugged code, self contained code, you should investigate putting it into a module!\n",
    "\n",
    "A module can be a just a simple file - and you tell Python you want to use it with the `import` statement:"
   ]
  },
  {
   "cell_type": "code",
   "execution_count": null,
   "metadata": {},
   "outputs": [],
   "source": [
    "import lec_01_helpers"
   ]
  },
  {
   "attachments": {},
   "cell_type": "markdown",
   "metadata": {},
   "source": [
    "Now we can reference a variable that is inside that module:"
   ]
  },
  {
   "cell_type": "code",
   "execution_count": null,
   "metadata": {},
   "outputs": [],
   "source": [
    "print(lec_01_helpers.var1)"
   ]
  },
  {
   "attachments": {},
   "cell_type": "markdown",
   "metadata": {},
   "source": [
    "Take a second to open up the file `lec_01_helpers.py` and you'll see the definition. Modules can contain any python code!\n",
    "\n",
    "Create a module using the Jupyter Interface such that the following code will work.\n",
    "\n",
    "1. Create the file (make sure it is in the `Lectures` folder!!)\n",
    "1. Define the variable inside that file\n",
    "1. Make sure to save the file (`control-S` or `command-S` should do it, or the disk icon on the web interface)\n",
    "\n",
    "The output from the cell should be `Spoon`."
   ]
  },
  {
   "cell_type": "code",
   "execution_count": null,
   "metadata": {},
   "outputs": [],
   "source": [
    "import lec_01_new\n",
    "print(lec_01_new.fork)"
   ]
  },
  {
   "cell_type": "markdown",
   "metadata": {},
   "source": [
    "The Python Eco-System is all about sharing modules with each other. Where do you get them from? [pypi](https://pypi.org).\n",
    "\n",
    "* Go to the website and search for something - anything."
   ]
  }
 ],
 "metadata": {
  "kernelspec": {
   "display_name": ".venv",
   "language": "python",
   "name": "python3"
  },
  "language_info": {
   "codemirror_mode": {
    "name": "ipython",
    "version": 3
   },
   "file_extension": ".py",
   "mimetype": "text/x-python",
   "name": "python",
   "nbconvert_exporter": "python",
   "pygments_lexer": "ipython3",
   "version": "3.13.1"
  },
  "orig_nbformat": 4,
  "vscode": {
   "interpreter": {
    "hash": "bd01b7ee67a4d4fc1045e5d17420f4623fa0a6b8a299bc53f70ca8869072ed47"
   }
  }
 },
 "nbformat": 4,
 "nbformat_minor": 2
}
