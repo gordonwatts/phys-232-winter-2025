{
 "cells": [
  {
   "attachments": {},
   "cell_type": "markdown",
   "metadata": {},
   "source": [
    "# Lecture 4\n",
    "\n",
    "Today will be about classes. Lots of code has to be written here!"
   ]
  },
  {
   "attachments": {},
   "cell_type": "markdown",
   "metadata": {},
   "source": [
    "## Classes\n",
    "\n",
    "Classes, on the surface, are simple.\n",
    "\n",
    "* Classes carry state (e.g. instance variables)\n",
    "* Classes carry functions (e.g. methods) that can operate on the instance variables\n",
    "* Classes can update their own instance data, or it can modified from outside.\n",
    "\n",
    "Here is an animal with the number of feet, and if it is a mammal or not:"
   ]
  },
  {
   "cell_type": "code",
   "execution_count": 1,
   "metadata": {},
   "outputs": [],
   "source": [
    "class Animal:\n",
    "    def __init__ (self, name, n_feet, is_mammal):\n",
    "        self.n_feet = n_feet\n",
    "        self.is_mammal = is_mammal\n",
    "        self.name = name\n",
    "\n",
    "    def print_name(self):\n",
    "        '''Print the name out'''\n",
    "        print(self.name)"
   ]
  },
  {
   "attachments": {},
   "cell_type": "markdown",
   "metadata": {},
   "source": [
    "_See slide in matching presentation_\n",
    "\n",
    "The `__init__` (a double-under method) is special.\n",
    "* Called when we _create_ an instance of the class\n",
    "* Puts the class into an initial known state\n",
    "\n",
    "It is important that you design the class so it is always in a known state after any method returns\n",
    "\n",
    "* If you find you are designing a class so method `b` must be called after method `a`, double check your design!\n",
    "* It is very tempting..."
   ]
  },
  {
   "attachments": {},
   "cell_type": "markdown",
   "metadata": {},
   "source": [
    "`print_name` is a method, which is a function associated with a class. We will learn more about functions and methods in a future lecture, but we need some simple functions here."
   ]
  },
  {
   "attachments": {},
   "cell_type": "markdown",
   "metadata": {},
   "source": [
    "We can see what is defined:"
   ]
  },
  {
   "cell_type": "code",
   "execution_count": null,
   "metadata": {},
   "outputs": [],
   "source": [
    "print(dir(Animal))\n",
    "help(Animal.print_name)"
   ]
  },
  {
   "cell_type": "markdown",
   "metadata": {},
   "source": [
    "Now, lets create an _instance_ of the class."
   ]
  },
  {
   "cell_type": "code",
   "execution_count": 3,
   "metadata": {},
   "outputs": [],
   "source": [
    "cat = Animal(\"cat\", 4, True)\n",
    "human = Animal(\"human\", 2, True)"
   ]
  },
  {
   "attachments": {},
   "cell_type": "markdown",
   "metadata": {},
   "source": [
    "This is a key thing about all classes:\n",
    "\n",
    "* There is the definition of what it means to be a member of a class - like `Animal` or `integer` or `float` or `string`\n",
    "* Then there is the object that is an _instance_ of that class - like \"cat\", `5`, `2.2`, or `\"I'm a Husky!\"`.\n",
    "\n",
    "You have the data, and the meta data. The class definition is all the things _about_ the class. The instance is the actual data."
   ]
  },
  {
   "attachments": {},
   "cell_type": "markdown",
   "metadata": {},
   "source": [
    "And we can get at the instance variables and also at the methods:"
   ]
  },
  {
   "cell_type": "code",
   "execution_count": null,
   "metadata": {},
   "outputs": [],
   "source": [
    "cat.print_name()"
   ]
  },
  {
   "cell_type": "code",
   "execution_count": null,
   "metadata": {},
   "outputs": [],
   "source": [
    "print(human.n_feet)"
   ]
  },
  {
   "attachments": {},
   "cell_type": "markdown",
   "metadata": {},
   "source": [
    "And make a list of all known animals:"
   ]
  },
  {
   "cell_type": "code",
   "execution_count": 6,
   "metadata": {},
   "outputs": [],
   "source": [
    "known_animals = [cat, human]"
   ]
  },
  {
   "cell_type": "code",
   "execution_count": null,
   "metadata": {},
   "outputs": [],
   "source": [
    "known_animals[1].print_name()"
   ]
  },
  {
   "attachments": {},
   "cell_type": "markdown",
   "metadata": {},
   "source": [
    "Now, lets do the particles! In the next cell, define the classes to represent the particles as we discussed.\n",
    "\n",
    "1. A class that contains attributes for a particle type (call it `MyParticle`).\n",
    "    * Mass\n",
    "    * Spin\n",
    "    * Charge\n",
    "1. A class that contains attributes for the momentum and particle. Call it `MyMomenta`.\n",
    "    * Instance of the Particle class\n",
    "    * $p_x$, $p_y$, and $p_z$"
   ]
  },
  {
   "cell_type": "code",
   "execution_count": null,
   "metadata": {},
   "outputs": [],
   "source": []
  },
  {
   "attachments": {},
   "cell_type": "markdown",
   "metadata": {},
   "source": [
    "Create an electron:"
   ]
  },
  {
   "cell_type": "code",
   "execution_count": null,
   "metadata": {},
   "outputs": [],
   "source": []
  },
  {
   "attachments": {},
   "cell_type": "markdown",
   "metadata": {},
   "source": [
    "Now lets create a list containing two electrons which are moving in equal and opposite directions!"
   ]
  },
  {
   "cell_type": "code",
   "execution_count": null,
   "metadata": {},
   "outputs": [],
   "source": []
  },
  {
   "attachments": {},
   "cell_type": "markdown",
   "metadata": {},
   "source": [
    "### Using `PIP` for the particle type information\n",
    "\n",
    "Lets up our game. The library [`particle`](https://pypi.org/project/particle/) provides complete particle data group information for all particles, and makes it very easy to access from python. Lets quickly explore it, and then re-write our classes above to incorporate it!\n",
    "\n",
    "First, we need to get the library from the [pypi.org](https://pypi.org) website and install it, and then import it as we normally would any local library."
   ]
  },
  {
   "cell_type": "code",
   "execution_count": null,
   "metadata": {},
   "outputs": [],
   "source": [
    "!pip install particle"
   ]
  },
  {
   "attachments": {},
   "cell_type": "markdown",
   "metadata": {},
   "source": [
    "We really only want the `Particle` class here - which contains all the information about a particular type of particle:"
   ]
  },
  {
   "cell_type": "code",
   "execution_count": null,
   "metadata": {},
   "outputs": [],
   "source": [
    "from particle import Particle"
   ]
  },
  {
   "cell_type": "code",
   "execution_count": null,
   "metadata": {},
   "outputs": [],
   "source": [
    "electron = Particle.from_evtgen_name(\"e-\")\n",
    "electron"
   ]
  },
  {
   "cell_type": "code",
   "execution_count": null,
   "metadata": {},
   "outputs": [],
   "source": [
    "dir(electron)"
   ]
  },
  {
   "cell_type": "code",
   "execution_count": null,
   "metadata": {},
   "outputs": [],
   "source": [
    "print(f'name={electron.name}, mass={electron.mass}, charge={electron.charge}')"
   ]
  },
  {
   "attachments": {},
   "cell_type": "markdown",
   "metadata": {},
   "source": [
    "Now, redo your example above for the event, using this to tag the particle type."
   ]
  },
  {
   "cell_type": "code",
   "execution_count": null,
   "metadata": {},
   "outputs": [],
   "source": []
  },
  {
   "attachments": {},
   "cell_type": "markdown",
   "metadata": {},
   "source": [
    "And create a list with first a muon and second an electron:"
   ]
  },
  {
   "cell_type": "code",
   "execution_count": null,
   "metadata": {},
   "outputs": [],
   "source": []
  },
  {
   "attachments": {},
   "cell_type": "markdown",
   "metadata": {},
   "source": [
    "And the following should print out `105.65` if we did everything right!:"
   ]
  },
  {
   "cell_type": "code",
   "execution_count": null,
   "metadata": {},
   "outputs": [],
   "source": [
    "print(particles[0].particle.mass)"
   ]
  }
 ],
 "metadata": {
  "kernelspec": {
   "display_name": ".venv",
   "language": "python",
   "name": "python3"
  },
  "language_info": {
   "codemirror_mode": {
    "name": "ipython",
    "version": 3
   },
   "file_extension": ".py",
   "mimetype": "text/x-python",
   "name": "python",
   "nbconvert_exporter": "python",
   "pygments_lexer": "ipython3",
   "version": "3.13.1"
  },
  "orig_nbformat": 4,
  "vscode": {
   "interpreter": {
    "hash": "bd01b7ee67a4d4fc1045e5d17420f4623fa0a6b8a299bc53f70ca8869072ed47"
   }
  }
 },
 "nbformat": 4,
 "nbformat_minor": 2
}
