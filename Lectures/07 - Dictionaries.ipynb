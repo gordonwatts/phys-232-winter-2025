{
 "cells": [
  {
   "attachments": {},
   "cell_type": "markdown",
   "metadata": {},
   "source": [
    "# Lecture 7\n",
    "\n",
    "Dictionaries are next! Functions are one of the most heavily used ways of writing code and dictionaries are one of the most heavily used data types."
   ]
  },
  {
   "cell_type": "markdown",
   "metadata": {},
   "source": [
    "# Dictionaries\n",
    "\n",
    "These are very versatile objects - you'll find yourself using them everywhere. They are very good at:\n",
    "\n",
    "* Storing state (similar to a class)\n",
    "* Configuration information\n",
    "* key-value storage and lookup pattern\n",
    "\n",
    "Your chapter in the book does a very good job of explaining and laying out what a dictionary can do. I have little to add. You'll also be using these in labs next week."
   ]
  },
  {
   "cell_type": "markdown",
   "metadata": {},
   "source": [
    "To have some fun, lets define a dictionary with lots of info in it."
   ]
  },
  {
   "cell_type": "code",
   "execution_count": null,
   "metadata": {},
   "outputs": [],
   "source": [
    "particles = {\n",
    "    'electron': {\n",
    "        'mass': 9.10938356e-31,\n",
    "        'interacts-with': ['photon', 'Z', 'W'],\n",
    "    },\n",
    "    'muon': {\n",
    "        'mass': 1.88353130e-28,\n",
    "        'interacts-with': ['photon', 'Z', 'W'],\n",
    "    },\n",
    "    'neutrino': {\n",
    "        'mass': 2.17647000e-35,\n",
    "        'interacts-with': ['Z', 'W'],\n",
    "    },\n",
    "    'photon': {\n",
    "        'mass': 0,\n",
    "        'interacts-with': ['electron', 'muon', 'Z', 'W'],\n",
    "    },\n",
    "    'Z': {\n",
    "        'mass': 91.1876,\n",
    "        'interacts-with': ['electron', 'muon', 'W'],\n",
    "    },\n",
    "    'W': {\n",
    "        'mass': 80.385,\n",
    "        'interacts-with': ['electron', 'muon', 'Z'],\n",
    "    },\n",
    "\n",
    "}"
   ]
  },
  {
   "cell_type": "markdown",
   "metadata": {},
   "source": [
    "We cam easily see the key's we use to look things up:"
   ]
  },
  {
   "cell_type": "code",
   "execution_count": null,
   "metadata": {},
   "outputs": [],
   "source": [
    "particles.keys()"
   ]
  },
  {
   "cell_type": "markdown",
   "metadata": {},
   "source": [
    "And access some particular data:"
   ]
  },
  {
   "cell_type": "code",
   "execution_count": null,
   "metadata": {},
   "outputs": [],
   "source": [
    "particles['electron']"
   ]
  },
  {
   "cell_type": "markdown",
   "metadata": {},
   "source": [
    "Write a loop that prints out the names of the particles and their masses:"
   ]
  },
  {
   "cell_type": "code",
   "execution_count": null,
   "metadata": {
    "tags": [
     "class"
    ]
   },
   "outputs": [],
   "source": []
  },
  {
   "cell_type": "markdown",
   "metadata": {},
   "source": [
    "They are in the same order as we saw them originally. Lets use the `sorted` function to fix that."
   ]
  },
  {
   "cell_type": "code",
   "execution_count": null,
   "metadata": {},
   "outputs": [],
   "source": [
    "sorted([2, 3, 1, 5, 8])"
   ]
  },
  {
   "cell_type": "code",
   "execution_count": null,
   "metadata": {},
   "outputs": [],
   "source": [
    "?sorted"
   ]
  },
  {
   "cell_type": "markdown",
   "metadata": {},
   "source": [
    "Use the `sorted` function to print out the items in particles in alphabetical order. Note that the default `sorted` sorts upper case and lower case separately (ASCII ordering). "
   ]
  },
  {
   "cell_type": "code",
   "execution_count": null,
   "metadata": {
    "tags": [
     "class"
    ]
   },
   "outputs": [],
   "source": []
  },
  {
   "cell_type": "markdown",
   "metadata": {},
   "source": [
    "What about ordering them from the heaviest to the lightest?"
   ]
  },
  {
   "cell_type": "code",
   "execution_count": null,
   "metadata": {
    "tags": [
     "class"
    ]
   },
   "outputs": [],
   "source": []
  },
  {
   "cell_type": "markdown",
   "metadata": {},
   "source": [
    "### Merging Two Dictionaries\n",
    "\n",
    "There are two common ways of combining dictionaries. I find myself using these when I've got configuration information coming from two places and I need a way to combine dictionaries.\n",
    "\n",
    "If python is version 3.8 or less, we use the `new_dict = {**dict1, **dict2}`, and if this is 3.9 or greater, `new_dict = dict1 | dict2\"`. You should almost never use 3.8 - it is almost [too old](https://www.python.org/downloads/).\n",
    "\n",
    "In the cell below create a new dictionary called particles1, and add a muon to it. Then use the appropirate combiner to combine the dictionaries.\n",
    "\n",
    "First, how to find out what the version of python is:"
   ]
  },
  {
   "cell_type": "code",
   "execution_count": null,
   "metadata": {},
   "outputs": [],
   "source": [
    "import sys\n",
    "\n",
    "print(f'{sys.version_info[0]}, {sys.version_info[1]}')"
   ]
  },
  {
   "cell_type": "markdown",
   "metadata": {},
   "source": [
    "Write your new dictionary and merge them in the next cell"
   ]
  },
  {
   "cell_type": "code",
   "execution_count": null,
   "metadata": {
    "tags": [
     "class"
    ]
   },
   "outputs": [],
   "source": [
    "particles2 = {\n",
    "    'tau': {\n",
    "        'mass': 177686e-25,\n",
    "        'interacts-with': ['photon', 'Z', 'W'],\n",
    "    }\n",
    "}\n",
    "\n",
    "# Put the merge here...\n"
   ]
  },
  {
   "cell_type": "code",
   "execution_count": null,
   "metadata": {},
   "outputs": [],
   "source": [
    "# For below python 3.8\n",
    "{**particles, **particles2}"
   ]
  }
 ],
 "metadata": {
  "kernelspec": {
   "display_name": ".venv",
   "language": "python",
   "name": "python3"
  },
  "language_info": {
   "codemirror_mode": {
    "name": "ipython",
    "version": 3
   },
   "file_extension": ".py",
   "mimetype": "text/x-python",
   "name": "python",
   "nbconvert_exporter": "python",
   "pygments_lexer": "ipython3",
   "version": "3.11.1"
  },
  "orig_nbformat": 4,
  "vscode": {
   "interpreter": {
    "hash": "97ee99713355a295790cf988e930f7ce05360b418008be67aa4c33ddf991f00c"
   }
  }
 },
 "nbformat": 4,
 "nbformat_minor": 2
}
