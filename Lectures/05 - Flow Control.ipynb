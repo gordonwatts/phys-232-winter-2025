{
 "cells": [
  {
   "attachments": {},
   "cell_type": "markdown",
   "metadata": {},
   "source": [
    "# Lecture 4\n",
    "\n",
    "Finally... Flow Control!"
   ]
  },
  {
   "attachments": {},
   "cell_type": "markdown",
   "metadata": {},
   "source": [
    "# Flow Control - If Statements\n",
    "\n",
    "These are simple branch statements and probably some of the most powerful single statements in a programming language. Many languages contain multiple types of `if` statements, even!"
   ]
  },
  {
   "cell_type": "code",
   "execution_count": null,
   "metadata": {},
   "outputs": [],
   "source": [
    "i = 10\n",
    "if i == 10:\n",
    "    print(\"it is 10\")\n",
    "else:\n",
    "    print(\"it is not 10\")"
   ]
  },
  {
   "attachments": {},
   "cell_type": "markdown",
   "metadata": {},
   "source": [
    "The above should print 10. Now cut paste the code into the cell below and modify `i` so that it prints out `it is not 10`."
   ]
  },
  {
   "cell_type": "markdown",
   "metadata": {},
   "source": []
  },
  {
   "attachments": {},
   "cell_type": "markdown",
   "metadata": {},
   "source": [
    "Write the code below so that it prints out \"The LED is on\" or \"The LED is off\" depending on the value of \"led_is_on\":"
   ]
  },
  {
   "cell_type": "code",
   "execution_count": null,
   "metadata": {},
   "outputs": [],
   "source": [
    "led_is_on = False\n"
   ]
  },
  {
   "attachments": {},
   "cell_type": "markdown",
   "metadata": {},
   "source": [
    "You can also drop the `else` clause if you like:"
   ]
  },
  {
   "cell_type": "code",
   "execution_count": null,
   "metadata": {},
   "outputs": [],
   "source": [
    "i = 10\n",
    "if i >= 10:\n",
    "    print(\"i is too large!\")"
   ]
  },
  {
   "cell_type": "markdown",
   "metadata": {},
   "source": [
    "Write a small bit of code that divides `a` by `b`, but if `b` is zero, it sets the result to be 0."
   ]
  },
  {
   "cell_type": "code",
   "execution_count": null,
   "metadata": {},
   "outputs": [],
   "source": []
  },
  {
   "cell_type": "markdown",
   "metadata": {},
   "source": [
    "Use two if statements to print out \"in range\" if `i` is between 5 and 10. Test it out by setting i to several values and re-running the cell."
   ]
  },
  {
   "cell_type": "code",
   "execution_count": null,
   "metadata": {},
   "outputs": [],
   "source": []
  },
  {
   "cell_type": "markdown",
   "metadata": {},
   "source": [
    "There is a more efficient way to write this using an `and` clause\n",
    "* `and` is another operator in an expression much like `+` and `-`\n",
    "* The [full list can be found on the python reference site](https://docs.python.org/3/library/operator.html#mapping-operators-to-functions) - there are _a lot_*."
   ]
  },
  {
   "attachments": {},
   "cell_type": "markdown",
   "metadata": {},
   "source": [
    "Python has a second form of a if statement - one that is an expression! We can rewrite the above:"
   ]
  },
  {
   "cell_type": "code",
   "execution_count": null,
   "metadata": {},
   "outputs": [],
   "source": [
    "size_string = \"it is 10\" if i == 10 else \"is is not 10\"\n",
    "print(size_string)"
   ]
  },
  {
   "cell_type": "markdown",
   "metadata": {},
   "source": [
    "And you can even write nested if statements as we did above:"
   ]
  },
  {
   "cell_type": "code",
   "execution_count": null,
   "metadata": {},
   "outputs": [],
   "source": [
    "i = 1\n",
    "decision = \"out of range\" if i < 5 else \"out of range\" if i > 10 else \"in range\"\n",
    "print(decision)"
   ]
  },
  {
   "attachments": {},
   "cell_type": "markdown",
   "metadata": {},
   "source": [
    "# Flow Control - Loops\n",
    "\n",
    "The most important types of statement-loops are the `for` and `while` loops. You've been seeing `while` loops for a while:\n",
    "\n",
    "```python\n",
    "while condition_expression:\n",
    "    statement1\n",
    "    statement2\n",
    "```\n",
    "\n",
    "In our microcontroller code you often see:\n",
    "\n",
    "```python\n",
    "while True:\n",
    "    statement1\n",
    "    statement2\n",
    "```\n",
    "\n",
    "This is because we want to start the microcontroller and have it run till we reset it or the battery dies!\n",
    "\n",
    "But any condition will work there."
   ]
  },
  {
   "attachments": {},
   "cell_type": "markdown",
   "metadata": {},
   "source": [
    "Write, in the cell below, a while loop that prints out the following:\n",
    "\n",
    "```text\n",
    "0\n",
    "2\n",
    "4\n",
    "6\n",
    "8\n",
    "10\n",
    "```\n",
    "\n",
    "The while loop should have only one `print` function call!"
   ]
  },
  {
   "cell_type": "code",
   "execution_count": null,
   "metadata": {},
   "outputs": [],
   "source": []
  },
  {
   "attachments": {},
   "cell_type": "markdown",
   "metadata": {},
   "source": [
    "In a microcontroller you may have a `while` loop that looks at some external condition, and as long as it exists, it will keep trying to do something to correct it."
   ]
  },
  {
   "attachments": {},
   "cell_type": "markdown",
   "metadata": {},
   "source": [
    "The `for` loop is normally even more common. The `for` loop loops over a `list` of items or a `tuple`. That is it. That is all it does!\n",
    "\n",
    "From your reading, create a `for` loop that prints out \"I found a `<x>`\" for each item in the list:"
   ]
  },
  {
   "cell_type": "code",
   "execution_count": null,
   "metadata": {},
   "outputs": [],
   "source": [
    "things = [\"bike\", \"car\", \"plane\", \"train\"]\n"
   ]
  },
  {
   "attachments": {},
   "cell_type": "markdown",
   "metadata": {},
   "source": [
    "You will often find ourself looping over `list`s in python.\n",
    "\n",
    "Lots of things can generate a `list` or `tuple`. One of the more useful is `range`:"
   ]
  },
  {
   "cell_type": "code",
   "execution_count": null,
   "metadata": {},
   "outputs": [],
   "source": [
    "range?"
   ]
  },
  {
   "attachments": {},
   "cell_type": "markdown",
   "metadata": {},
   "source": [
    "In the next cell, write a `for` loop that prints out the same as the while loop (even numbers up to 10), and does not contain a `*2` expression in it!"
   ]
  },
  {
   "cell_type": "code",
   "execution_count": null,
   "metadata": {},
   "outputs": [],
   "source": []
  },
  {
   "attachments": {},
   "cell_type": "markdown",
   "metadata": {},
   "source": [
    "Recall we said _statement-based loops_ above? There are expression loops as well! These are called `generators` or `list comprehensions` and are very very powerful because you can do so much so concisely. I'll show you an example - you should read up on these and start using them as soon as you feel comfortable."
   ]
  },
  {
   "cell_type": "code",
   "execution_count": null,
   "metadata": {},
   "outputs": [],
   "source": [
    "every_number = [0, 1, 2, 3, 4, 5]\n",
    "even_numbers = [i*2 for i in every_number]\n",
    "print(even_numbers)"
   ]
  },
  {
   "attachments": {},
   "cell_type": "markdown",
   "metadata": {},
   "source": [
    "Have you heard of the `map-reduce` algorithm? It is a way of splitting up and processing a large amount of data and then aggregating it. It came from Google, and they are famous for it because it was one of the first patterns recognized for processing big data. This `list comprehension` is the `map` operation in `map-reduce`. Whole papers were written about this algorithm, and it was how google first implemented its internet search crawler and analysis. And now it is just a \"minor\" footnote in the python language."
   ]
  }
 ],
 "metadata": {
  "kernelspec": {
   "display_name": ".venv",
   "language": "python",
   "name": "python3"
  },
  "language_info": {
   "codemirror_mode": {
    "name": "ipython",
    "version": 3
   },
   "file_extension": ".py",
   "mimetype": "text/x-python",
   "name": "python",
   "nbconvert_exporter": "python",
   "pygments_lexer": "ipython3",
   "version": "3.13.1"
  },
  "orig_nbformat": 4,
  "vscode": {
   "interpreter": {
    "hash": "bd01b7ee67a4d4fc1045e5d17420f4623fa0a6b8a299bc53f70ca8869072ed47"
   }
  }
 },
 "nbformat": 4,
 "nbformat_minor": 2
}
