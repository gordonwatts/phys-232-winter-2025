{
 "cells": [
  {
   "attachments": {},
   "cell_type": "markdown",
   "metadata": {},
   "source": [
    "# Library Explorations\n",
    "\n",
    "We found [this](https://github.com/tomduck/electrostatics) library. Lets try it out.\n",
    "\n",
    "*NOTE*: We didn't go over this in lecture, but it matches to the library slides\n",
    "\n",
    "First, install it using the instructions from the webpage:"
   ]
  },
  {
   "cell_type": "code",
   "execution_count": null,
   "metadata": {
    "tags": [
     "class"
    ]
   },
   "outputs": [],
   "source": [
    "!pip install git+https://github.com/tomduck/electrostatics.git"
   ]
  },
  {
   "attachments": {},
   "cell_type": "markdown",
   "metadata": {},
   "source": [
    "Ok - so it installed. but... What does that mean?"
   ]
  },
  {
   "attachments": {},
   "cell_type": "markdown",
   "metadata": {},
   "source": [
    "## Example\n",
    "\n",
    "Go into the example and find the `line-point.py` example, and copy it here."
   ]
  },
  {
   "cell_type": "code",
   "execution_count": null,
   "metadata": {},
   "outputs": [],
   "source": [
    "from matplotlib import pyplot\n",
    "import electrostatics\n",
    "from electrostatics import PointCharge, LineCharge\n",
    "from electrostatics import ElectricField, Potential, GaussianCircle\n",
    "from electrostatics import finalize_plot\n",
    "\n",
    "# pylint: disable=invalid-name\n",
    "\n",
    "XMIN, XMAX = -80, 80\n",
    "YMIN, YMAX = -60, 60\n",
    "ZOOM = 15\n",
    "XOFFSET = 0\n",
    "\n",
    "electrostatics.init(XMIN, XMAX, YMIN, YMAX, ZOOM, XOFFSET)\n",
    "\n",
    "# Set up the charges, electric field, and potential\n",
    "charges = [LineCharge(1, [-1, -2], [-1, 2]), PointCharge(-1, [2, 0])]\n",
    "field = ElectricField(charges)\n",
    "potential = Potential(charges)\n",
    "\n",
    "# Set up the Gaussian surfaces\n",
    "g = GaussianCircle(charges[1].x, 0.1)\n",
    "\n",
    "# Create the field lines\n",
    "fieldlines = []\n",
    "for x in g.fluxpoints(field, 12):\n",
    "    fieldlines.append(field.line(x))\n",
    "fieldlines.append(field.line([-10, 0]))\n",
    "\n",
    "# Plotting\n",
    "pyplot.figure(figsize=(6, 4.5))\n",
    "field.plot()\n",
    "potential.plot()\n",
    "for fieldline in fieldlines:\n",
    "    fieldline.plot()\n",
    "for charge in charges:\n",
    "    charge.plot()\n",
    "finalize_plot()\n",
    "pyplot.show()"
   ]
  },
  {
   "attachments": {},
   "cell_type": "markdown",
   "metadata": {},
   "source": [
    "Add two more point charges around the current point charge, at +3 and -3, and get a nice set of field lines coming from all of them."
   ]
  },
  {
   "cell_type": "code",
   "execution_count": null,
   "metadata": {
    "tags": [
     "class"
    ]
   },
   "outputs": [],
   "source": []
  },
  {
   "attachments": {},
   "cell_type": "markdown",
   "metadata": {},
   "source": [
    "Can we figure out what the electric field is at any point?"
   ]
  },
  {
   "cell_type": "code",
   "execution_count": null,
   "metadata": {},
   "outputs": [],
   "source": [
    "field.vector([0.0, 0.0])"
   ]
  },
  {
   "attachments": {},
   "cell_type": "markdown",
   "metadata": {},
   "source": [
    "Tho we won't here (sorry), if we needed to create a test charge moving through this, we could do this using $F = qE$!"
   ]
  },
  {
   "attachments": {},
   "cell_type": "markdown",
   "metadata": {},
   "source": [
    "So, this library looks pretty decent (hey - pretty plots!)."
   ]
  }
 ],
 "metadata": {
  "kernelspec": {
   "display_name": ".venv",
   "language": "python",
   "name": "python3"
  },
  "language_info": {
   "codemirror_mode": {
    "name": "ipython",
    "version": 3
   },
   "file_extension": ".py",
   "mimetype": "text/x-python",
   "name": "python",
   "nbconvert_exporter": "python",
   "pygments_lexer": "ipython3",
   "version": "3.11.6"
  },
  "orig_nbformat": 4,
  "vscode": {
   "interpreter": {
    "hash": "cff0604e258d3f68a187b9d0395ae84627fe0f41da39aaac4bf51ab7c3cbc878"
   }
  }
 },
 "nbformat": 4,
 "nbformat_minor": 2
}
