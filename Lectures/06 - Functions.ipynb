{
 "cells": [
  {
   "attachments": {},
   "cell_type": "markdown",
   "metadata": {},
   "source": [
    "# Lecture 6\n",
    "\n",
    "Functions are next!"
   ]
  },
  {
   "attachments": {},
   "cell_type": "markdown",
   "metadata": {},
   "source": [
    "## Functions\n",
    "\n",
    "We've been using functions a lot in this course already - you can't get away from them! Event `print` is a function in python!\n",
    "\n",
    "To start, lets define a silly function and play with the arguments a little bit:"
   ]
  },
  {
   "cell_type": "code",
   "execution_count": 1,
   "metadata": {},
   "outputs": [],
   "source": [
    "def udub(name, major):\n",
    "    print(f\"Hello, I am {name}! I am majoring in {major} at UW.\")"
   ]
  },
  {
   "cell_type": "code",
   "execution_count": null,
   "metadata": {},
   "outputs": [],
   "source": [
    "udub(\"Joe\", \"physics\")"
   ]
  },
  {
   "attachments": {},
   "cell_type": "markdown",
   "metadata": {},
   "source": [
    "Lets say I wrote `udub(\"Math\", \"Jane\")` - write the call in the next cell, leaving the *order* of the arguments the same, but so that things are called properly and we get the expected \"Hellow, I am Jane! I'm majoriing in math at UW.\"."
   ]
  },
  {
   "cell_type": "code",
   "execution_count": null,
   "metadata": {
    "tags": [
     "class"
    ]
   },
   "outputs": [],
   "source": []
  },
  {
   "cell_type": "markdown",
   "metadata": {},
   "source": [
    "Note how much more readable this is - especially if it was a very long argument list."
   ]
  },
  {
   "attachments": {},
   "cell_type": "markdown",
   "metadata": {},
   "source": [
    "Since everyone at UW majors in physics, lets default the major to physics. Fix up the following cell so the cell just below it works correctly:"
   ]
  },
  {
   "cell_type": "code",
   "execution_count": null,
   "metadata": {
    "tags": [
     "class"
    ]
   },
   "outputs": [],
   "source": [
    "def udub(major='physics', name):\n",
    "    print(f\"Hello, I am {name}! I am majoring in {major} at UW.\")"
   ]
  },
  {
   "cell_type": "code",
   "execution_count": null,
   "metadata": {},
   "outputs": [],
   "source": [
    "udub('Mai')"
   ]
  },
  {
   "attachments": {},
   "cell_type": "markdown",
   "metadata": {},
   "source": [
    "Arguments are passed in different ways - depending on how they are called _[See slides on by-reference and by-value]_.\n",
    "\n",
    "In this next cell create a function called `modify_it` that takes an integer and a list as its two arguments. The integer argument it adds 1. The list it appends the number 5. The function then prints out both arguments."
   ]
  },
  {
   "cell_type": "code",
   "execution_count": null,
   "metadata": {
    "tags": [
     "class"
    ]
   },
   "outputs": [],
   "source": []
  },
  {
   "attachments": {},
   "cell_type": "markdown",
   "metadata": {},
   "source": [
    "Try to predict what the following code will do:"
   ]
  },
  {
   "cell_type": "code",
   "execution_count": null,
   "metadata": {},
   "outputs": [],
   "source": [
    "i = 2\n",
    "l = [1, 2, 3]\n",
    "\n",
    "print('Before call:', i, l)\n",
    "\n",
    "modify_it(i, l)\n",
    "\n",
    "print('After call:', i, l)"
   ]
  },
  {
   "attachments": {},
   "cell_type": "markdown",
   "metadata": {},
   "source": [
    "That is totally inconsistent! What is happening!!?!?\n",
    "\n",
    "Write the same sort of experiment with a string - is it by value or by reference?"
   ]
  },
  {
   "cell_type": "code",
   "execution_count": null,
   "metadata": {
    "tags": [
     "class"
    ]
   },
   "outputs": [],
   "source": []
  },
  {
   "attachments": {},
   "cell_type": "markdown",
   "metadata": {},
   "source": [
    "## Nested Functions\n",
    "\n",
    "Functions can be defined almost anywhere. Sometimes you might want a function that is only useful inside another. You can define a function inside another:"
   ]
  },
  {
   "cell_type": "code",
   "execution_count": null,
   "metadata": {},
   "outputs": [],
   "source": [
    "def add_mul(n):\n",
    "    def add_it(n):\n",
    "        return n + 1\n",
    "    \n",
    "    return add_it(n) * 2\n",
    "\n",
    "add_mul(4)"
   ]
  },
  {
   "attachments": {},
   "cell_type": "markdown",
   "metadata": {},
   "source": [
    "## Lambda Expressions\n",
    "\n",
    "Just as there are single line `if` and `loop` expressions, there are also function expressions. They are called `lambda` expressions:"
   ]
  },
  {
   "cell_type": "code",
   "execution_count": null,
   "metadata": {},
   "outputs": [],
   "source": [
    "def multiply(x, y):\n",
    "    return x * y\n",
    "\n",
    "my_mul_expr = lambda x, y: x * y\n",
    "\n",
    "print(multiply(2, 3))\n",
    "print(my_mul_expr(2, 3))"
   ]
  },
  {
   "attachments": {},
   "cell_type": "markdown",
   "metadata": {},
   "source": [
    "Where might this be useful? Functional programming and higher-order functions (functions that take functions as arguments).\n",
    "\n",
    "A classic is the built-in `map` function:"
   ]
  },
  {
   "cell_type": "code",
   "execution_count": null,
   "metadata": {},
   "outputs": [],
   "source": [
    "numbers = [1, 2, 3, 4, 5]\n",
    "map(lambda x: x * 2, numbers)"
   ]
  },
  {
   "attachments": {},
   "cell_type": "markdown",
   "metadata": {},
   "source": [
    "What? Wait a minute... Ok - rewrite the above, but put the `map(...)` as something you iterate over in a `for` loop. Just print out the value you are iterating with."
   ]
  },
  {
   "cell_type": "code",
   "execution_count": null,
   "metadata": {
    "tags": [
     "class"
    ]
   },
   "outputs": [],
   "source": []
  },
  {
   "attachments": {},
   "cell_type": "markdown",
   "metadata": {},
   "source": [
    "WHAT IS GOING ON!?!?!?\n",
    "\n",
    "`map` is a *generator*. It only _generates_ the elements of the list as it is asked for them. This is a memory saving device (think about running over a list that is GB in size): each calculation isn't called until it is actually needed."
   ]
  },
  {
   "cell_type": "markdown",
   "metadata": {},
   "source": [
    "We can turn it into a list, however:"
   ]
  },
  {
   "cell_type": "code",
   "execution_count": null,
   "metadata": {},
   "outputs": [],
   "source": [
    "list(map(lambda x: x * 2, numbers))"
   ]
  },
  {
   "cell_type": "code",
   "execution_count": null,
   "metadata": {},
   "outputs": [],
   "source": [
    "my_double = lambda x: x * 2\n",
    "list(map(my_double, numbers))"
   ]
  },
  {
   "cell_type": "code",
   "execution_count": null,
   "metadata": {},
   "outputs": [],
   "source": [
    "?map"
   ]
  },
  {
   "attachments": {},
   "cell_type": "markdown",
   "metadata": {},
   "source": [
    "_shortest_ iterable - perhaps it will work on multiple lists?"
   ]
  },
  {
   "cell_type": "code",
   "execution_count": null,
   "metadata": {},
   "outputs": [],
   "source": [
    "list(map(my_mul_expr, numbers, numbers))"
   ]
  },
  {
   "attachments": {},
   "cell_type": "markdown",
   "metadata": {},
   "source": [
    "We can get totally crazy - by creating a higher order function that captures an argument."
   ]
  },
  {
   "cell_type": "code",
   "execution_count": null,
   "metadata": {},
   "outputs": [],
   "source": [
    "def capture_arg(func, arg):\n",
    "    def do_the_work(*args):\n",
    "        return func(arg, *args)\n",
    "    \n",
    "    return do_the_work\n",
    "\n",
    "temp_func = capture_arg(my_mul_expr, 2)\n",
    "temp_func(3)"
   ]
  },
  {
   "attachments": {},
   "cell_type": "markdown",
   "metadata": {},
   "source": [
    "`capture_arg` is returning a function!!!!! Write something similar to the `list(map(...)...)` from the cell above (just above the `?map`). But now use `capture_arg` and `my_mul_expr` to multiply everything by 2."
   ]
  },
  {
   "cell_type": "code",
   "execution_count": null,
   "metadata": {
    "tags": [
     "class"
    ]
   },
   "outputs": [],
   "source": []
  },
  {
   "cell_type": "markdown",
   "metadata": {},
   "source": [
    "Your output should have been `[2, 4, 6, 8, 10]`."
   ]
  },
  {
   "attachments": {},
   "cell_type": "markdown",
   "metadata": {},
   "source": [
    "I doubt you'll need to use this in this class. But it does give you a glimpse of how crazy python will let you get, if you want to push things. Which you find yourself doing with some regularity in actual large code bases. These features make it possible to compose different libraries and functionality."
   ]
  },
  {
   "cell_type": "markdown",
   "metadata": {},
   "source": [
    "### Returning Values - Composability\n",
    "\n",
    "Modify the `udub` function (call it `udub2`) so it returns the greeting string rather than prints it out."
   ]
  },
  {
   "cell_type": "code",
   "execution_count": null,
   "metadata": {
    "tags": [
     "class"
    ]
   },
   "outputs": [],
   "source": []
  },
  {
   "cell_type": "code",
   "execution_count": null,
   "metadata": {},
   "outputs": [],
   "source": [
    "assert udub2(\"Vivien\", \"math\") == \"Hello, I am Vivien! I am majoring in math at UW.\""
   ]
  },
  {
   "cell_type": "markdown",
   "metadata": {},
   "source": [
    "Question: is either better than the other? It comes down to composability!"
   ]
  },
  {
   "cell_type": "code",
   "execution_count": null,
   "metadata": {},
   "outputs": [],
   "source": [
    "print(udub2('Sasha', 'physics'))\n",
    "udub('Sasha', 'physics')"
   ]
  },
  {
   "cell_type": "markdown",
   "metadata": {},
   "source": [
    "Lets say I want emphasize this:"
   ]
  },
  {
   "cell_type": "code",
   "execution_count": null,
   "metadata": {},
   "outputs": [],
   "source": [
    "print(f'--> {udub2(\"Sasha\", \"physics\")} <--')"
   ]
  },
  {
   "cell_type": "markdown",
   "metadata": {},
   "source": [
    "I can't do that with the `udub` function.\n",
    "\n",
    "There is no rule exactly how to deal with this. Perhaps a rule of thumb... if you are writing a library, if there are `print` calls in there, that might be \"odd\".  Maybe the `print` calls should be at the top level.\n",
    "\n",
    "This is a rule of thumb - there are plenty of reasons why print statements are good: \n",
    "\n",
    "* Debugging statements buried in the code\n",
    "* No logging infrastructure (see the `logging` module in python)\n",
    "* It is just too much work to do otherwise..."
   ]
  },
  {
   "cell_type": "markdown",
   "metadata": {},
   "source": [
    "### Variable Scope\n",
    "\n",
    "Write a function in the next cell that takes an argument and assigns it to the variable `function_var`, and then returns the value of `function_var`. In the second cell, print out the result of calling the function, and then also execute the third cell. "
   ]
  },
  {
   "cell_type": "code",
   "execution_count": null,
   "metadata": {
    "tags": [
     "class"
    ]
   },
   "outputs": [],
   "source": [
    "def my_function(i):\n",
    "    function_var = i\n",
    "    return function_var"
   ]
  },
  {
   "cell_type": "code",
   "execution_count": null,
   "metadata": {},
   "outputs": [],
   "source": [
    "print(my_function(10))"
   ]
  },
  {
   "cell_type": "code",
   "execution_count": null,
   "metadata": {},
   "outputs": [],
   "source": [
    "print(function_var)"
   ]
  },
  {
   "cell_type": "markdown",
   "metadata": {},
   "source": [
    "At first glance, this looks like a simple rule. _What happens in the indent stays in the indent._ While that works if you replace _indent_ with _function_, we do have to be a little careful. Lets create an `if` statement that assigns a variable inside the `if` statement. Execute it so that the `if` statement runs, and then see what the variable is. Do it again, but with the opposite condition (and a new variable name) and see if the variable is defined."
   ]
  },
  {
   "cell_type": "code",
   "execution_count": null,
   "metadata": {
    "tags": [
     "class"
    ]
   },
   "outputs": [],
   "source": []
  },
  {
   "cell_type": "code",
   "execution_count": null,
   "metadata": {
    "tags": [
     "class"
    ]
   },
   "outputs": [],
   "source": []
  },
  {
   "cell_type": "markdown",
   "metadata": {},
   "source": [
    "You can see why this might be dangerous in your code - sometimes the variable `my_var1` will be defined and sometimes it will not. A rule of thumb: Do not use a variable _above_ the indent it was declared in. Many programming languages force you to do this."
   ]
  },
  {
   "cell_type": "markdown",
   "metadata": {},
   "source": [
    "Final bit of scoping is dealing with global variables. Global variables\n",
    "\n",
    "* In general these are considered bad things to have. But especially in device programming they are common - their power is too good to deny.\n",
    "* If you are using a global variable to define state - think about using a class instead.\n",
    "\n",
    "The following code does not do what we want:"
   ]
  },
  {
   "cell_type": "code",
   "execution_count": null,
   "metadata": {},
   "outputs": [],
   "source": [
    "my_global = 20\n",
    "\n",
    "def update_global(i):\n",
    "    my_global = i\n",
    "\n",
    "update_global(10)\n",
    "print(my_global)"
   ]
  },
  {
   "cell_type": "markdown",
   "metadata": {},
   "source": [
    "The reason this did not work is because the statement `my_global = i` created a new local variable in the `update_global` function... effectively hiding the `my_global`. To fix this, add a line to the function `update_global` before it references `my_global`: `global my_global`. That should fix it!"
   ]
  },
  {
   "cell_type": "code",
   "execution_count": null,
   "metadata": {},
   "outputs": [],
   "source": []
  },
  {
   "cell_type": "markdown",
   "metadata": {},
   "source": [
    "## Typing\n",
    "\n",
    "Modern python allows you to add \"type-hints\". This is an advanced topic, and I've got it here this year only because it was asked about. Lets create a `udub3` function, but assign types:"
   ]
  },
  {
   "cell_type": "code",
   "execution_count": 5,
   "metadata": {},
   "outputs": [],
   "source": [
    "def udub3(name: str, major: str) -> str:\n",
    "    return f\"Hello, I am {name}! I am majoring in {major} at UW.\""
   ]
  },
  {
   "cell_type": "markdown",
   "metadata": {},
   "source": [
    "Try calling it with various arguments - including things like integers!"
   ]
  },
  {
   "cell_type": "markdown",
   "metadata": {},
   "source": []
  },
  {
   "cell_type": "markdown",
   "metadata": {},
   "source": [
    "So - what is the point? Type hints allow _static typecheckers_ to run - these look for places where you do things like `2 + \"hi\"` in your code, and print out errors.\n",
    "\n",
    "Two I know of:\n",
    "\n",
    "* pylance - written in javascript/typescript and built into `vscode`'s python lang pack\n",
    "* mypy - original type checker first written by the python language author.\n",
    "\n",
    "Lets try out mypy."
   ]
  },
  {
   "cell_type": "code",
   "execution_count": null,
   "metadata": {},
   "outputs": [],
   "source": [
    "%%writefile test_type_1.py\n",
    "def udub3(name: str, major: str) -> str:\n",
    "    return f\"Hello, I am {name}! I am majoring in {major} at UW.\"\n",
    "\n",
    "# Example call\n",
    "print(udub3(\"Vivien\", \"math\"))"
   ]
  },
  {
   "cell_type": "markdown",
   "metadata": {},
   "source": [
    "Lets test it by running it:"
   ]
  },
  {
   "cell_type": "code",
   "execution_count": null,
   "metadata": {},
   "outputs": [],
   "source": [
    "!python test_type_1.py"
   ]
  },
  {
   "cell_type": "markdown",
   "metadata": {},
   "source": [
    "Lets see how the type checker likes it."
   ]
  },
  {
   "cell_type": "code",
   "execution_count": null,
   "metadata": {},
   "outputs": [],
   "source": [
    "!pip install mypy"
   ]
  },
  {
   "cell_type": "code",
   "execution_count": null,
   "metadata": {},
   "outputs": [],
   "source": [
    "!mypy test_type_1.py"
   ]
  }
 ],
 "metadata": {
  "kernelspec": {
   "display_name": ".venv",
   "language": "python",
   "name": "python3"
  },
  "language_info": {
   "codemirror_mode": {
    "name": "ipython",
    "version": 3
   },
   "file_extension": ".py",
   "mimetype": "text/x-python",
   "name": "python",
   "nbconvert_exporter": "python",
   "pygments_lexer": "ipython3",
   "version": "3.13.1"
  },
  "orig_nbformat": 4,
  "vscode": {
   "interpreter": {
    "hash": "97ee99713355a295790cf988e930f7ce05360b418008be67aa4c33ddf991f00c"
   }
  }
 },
 "nbformat": 4,
 "nbformat_minor": 2
}
